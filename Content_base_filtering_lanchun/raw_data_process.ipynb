{
  "nbformat": 4,
  "nbformat_minor": 0,
  "metadata": {
    "colab": {
      "name": "raw_data_process.ipynb",
      "version": "0.3.2",
      "provenance": [],
      "collapsed_sections": []
    },
    "kernelspec": {
      "name": "python3",
      "display_name": "Python 3"
    },
    "accelerator": "GPU"
  },
  "cells": [
    {
      "metadata": {
        "id": "-gmjj41oiRwH",
        "colab_type": "code",
        "colab": {}
      },
      "cell_type": "code",
      "source": [
        "from google.colab import drive\n"
      ],
      "execution_count": 0,
      "outputs": []
    },
    {
      "metadata": {
        "id": "JTKD7r2goBpt",
        "colab_type": "code",
        "outputId": "5e52f0b3-8453-4ef4-8171-b1677bed32fb",
        "colab": {
          "base_uri": "https://localhost:8080/",
          "height": 55
        }
      },
      "cell_type": "code",
      "source": [
        "drive.mount('/content/drive')"
      ],
      "execution_count": 0,
      "outputs": [
        {
          "output_type": "stream",
          "text": [
            "Drive already mounted at /content/drive; to attempt to forcibly remount, call drive.mount(\"/content/drive\", force_remount=True).\n"
          ],
          "name": "stdout"
        }
      ]
    },
    {
      "metadata": {
        "id": "Pk4lVQBYp8wU",
        "colab_type": "code",
        "outputId": "16496978-aa6d-4197-ebea-089f625628ce",
        "colab": {
          "base_uri": "https://localhost:8080/",
          "height": 72
        }
      },
      "cell_type": "code",
      "source": [
        "#load the dataset\n",
        "import json\n",
        "import math\n",
        "\n",
        "from pprint import pprint\n",
        "data = []\n",
        "\n",
        "with open('/content/drive/My Drive/data_by_genre/mix_data.json') as data_file:  \n",
        "      for line in data_file:\n",
        "          data.append(json.loads(line))\n",
        "print(len(data))        \n",
        "print(data[0])"
      ],
      "execution_count": 0,
      "outputs": [
        {
          "output_type": "stream",
          "text": [
            "15000\n",
            "{'isbn': ' ', 'text_reviews_count': '1', 'series': [], 'country_code': 'US', 'language_code': '', 'popular_shelves': [{'count': '228', 'name': 'to-read'}, {'count': '2', 'name': 'graphic-novels'}, {'count': '1', 'name': 'ff-re-2011-till-2015'}, {'count': '1', 'name': 'calibre-list'}, {'count': '1', 'name': 'linseyschussan'}, {'count': '1', 'name': '1-person-narrative'}, {'count': '1', 'name': 'lgbtq-ya'}, {'count': '1', 'name': 'watchlist'}, {'count': '1', 'name': 'next-to-read'}, {'count': '1', 'name': 'sf'}, {'count': '1', 'name': 'sachiko'}, {'count': '1', 'name': 'giveaway-add'}, {'count': '1', 'name': 'friends-in-mind'}, {'count': '1', 'name': 'free-to-read-or-preview-on-goodread'}, {'count': '1', 'name': 'fantasy'}, {'count': '1', 'name': 'dystopian'}, {'count': '1', 'name': 'ck-library'}, {'count': '1', 'name': '23089-ya-fantasy-sf-w-major-lgbt'}], 'asin': 'B00NLXQ534', 'is_ebook': 'true', 'average_rating': '4.12', 'kindle_asin': ' ', 'similar_books': ['25653153', '25699172', '23530486', '12984185', '25538377', '23525552', '18215952', '21412122', '25758901'], 'description': 'Lillian Ann Cross is forced to live the worst nightmare of her life. She is an everyday middle class American, striving to survive in an everyday changing world. Her life was abruptly<br />turned upsidedown forever as she was kidnapped and forced into a world called \"Hen Fighting.\"<br /><br />A world in which women fight and bets are made upon their bloodshed.Lillian is forced to comply due to the threats made upon her mother\\'s life. Being a loving person her whole life, Lillian finds difficulty grasping her new functions. As she is conditioned to live in her new world, she is subjected to an experimental procedure. A procedure which has taken the lives of a few before her. As she survives, she now has to learn how to live with her new \"implants.\" Implants which strengthen her bones, giving her strength and an upper ability amongst others. Implants which require weekly sustenance, or she will die.', 'format': ' ', 'link': 'https://www.goodreads.com/book/show/25742454-the-switchblade-mamma', 'authors': [{'author_id': '8551671', 'role': ''}], 'publisher': '', 'num_pages': ' ', 'publication_day': '', 'isbn13': ' ', 'publication_month': '', 'edition_information': ' ', 'publication_year': '', 'url': 'https://www.goodreads.com/book/show/25742454-the-switchblade-mamma', 'image_url': 'https://s.gr-assets.com/assets/nophoto/book/111x148-bcc042a9c91a29c1d680899eff700a03.png', 'book_id': '25742454', 'ratings_count': '1', 'work_id': '42749946'}\n"
          ],
          "name": "stdout"
        }
      ]
    },
    {
      "metadata": {
        "id": "n9IIlyo5OoYg",
        "colab_type": "code",
        "outputId": "b0ab4bd7-41bd-4e26-bbcf-eaa0e7aa5c43",
        "colab": {
          "base_uri": "https://localhost:8080/",
          "height": 89
        }
      },
      "cell_type": "code",
      "source": [
        "#extract id and description\n",
        "data_final = []\n",
        "for e in range(len(data)):\n",
        "    data_final.append({})\n",
        "for e in range(len(data)):\n",
        "    data_final[e]['book_id']=data[e]['book_id']\n",
        "    data_final[e]['description']=data[e]['description']\n",
        "print(data_final[0])\n",
        "print(data_final[1])\n",
        "print(len(data_final))"
      ],
      "execution_count": 0,
      "outputs": [
        {
          "output_type": "stream",
          "text": [
            "{'book_id': '25742454', 'description': 'Lillian Ann Cross is forced to live the worst nightmare of her life. She is an everyday middle class American, striving to survive in an everyday changing world. Her life was abruptly<br />turned upsidedown forever as she was kidnapped and forced into a world called \"Hen Fighting.\"<br /><br />A world in which women fight and bets are made upon their bloodshed.Lillian is forced to comply due to the threats made upon her mother\\'s life. Being a loving person her whole life, Lillian finds difficulty grasping her new functions. As she is conditioned to live in her new world, she is subjected to an experimental procedure. A procedure which has taken the lives of a few before her. As she survives, she now has to learn how to live with her new \"implants.\" Implants which strengthen her bones, giving her strength and an upper ability amongst others. Implants which require weekly sustenance, or she will die.'}\n",
            "{'book_id': '30128855', 'description': \"Florence Dupre Latour raconte comment, de son enfance jusqu'a la fin de son adolescence, elle a torture, mutile, tue les petits animaux de compagnie qui lui passaient entre les mains. Version trash des Malheurs de Sophie, ce recit est stupefiant, singulier et plein d'humour. L'auteure est cruelle mais nous renvoie a une verite universelle : un bambin qui joue, c'est aussi un redoutable predateur, un Attila ivre de conquetes et de pouvoir, un savant fou pret a toutes les experiences...\"}\n",
            "15000\n"
          ],
          "name": "stdout"
        }
      ]
    },
    {
      "metadata": {
        "id": "WVNlKj15QVrn",
        "colab_type": "code",
        "colab": {}
      },
      "cell_type": "code",
      "source": [
        "#preprocess of dataset, delete the useless mark\n",
        "import json\n",
        "#js = json.dumps(data_final)\n",
        "\n",
        "fileObject = open('/content/drive/My Drive/data_by_genre/mix_data_after_process.json', 'w')\n",
        "for e in range(len(data_final)):\n",
        "    if(data_final[e]['description']!=''):\n",
        "        data_final[e]['description'] = data_final[e]['description'].replace('<i>',' ').replace('</i>',' ').replace('<b>',' ')\\\n",
        "        .replace('</b>',' ').replace('<br />',' ').replace('<p>',' ').replace('</p>',' ').replace('<div>',' ').replace('</div>',' ')\\\n",
        "        .replace('</cite>',' ').replace('<cite>',' ').replace('<s>',' ').replace('</s>',' ').replace('</blockquote>',' ')\\\n",
        "        .replace('<blockquote>',' ').replace('<em>',' ').replace('</em>',' ').replace('<u>',' ').replace('</u>',' ')\\\n",
        "        .replace('<strong>',' ').replace('</strong>',' ').replace('<del>',' ').replace('</del>',' ').replace('<br>',' ').replace('<img',' ').replace('<a',' ')\\\n",
        "        .replace('</a>',' ').replace('.org',' ').replace('.com',' ').replace('href',' ').replace('rel',' ').replace('traget',' ')\\\n",
        "        .replace('~',' ').replace('.com',' ').replace('src=',' ').replace('https:',' ').replace('?',' ').replace('!',' ')\\\n",
        "        .replace('<',' ').replace('>',' ').replace(' \\ ',' ').replace('--',' ').replace('=',' ').replace('(',' ').replace(')',' ')\\\n",
        "        .replace('{',' ').replace('}',' ').replace(':',' ').replace(';',' ').replace('\"',' ').replace(',',' ')\\\n",
        "        .replace('http',' ').replace('html',' ').replace('/',' ').replace('...',' ').replace('.',' ').replace('[',' ').replace(']',' ')\\\n",
        "        .lower()\n",
        "        fileObject.write(json.dumps(data_final[e]))\n",
        "        fileObject.write('\\n')\n"
      ],
      "execution_count": 0,
      "outputs": []
    }
  ]
}