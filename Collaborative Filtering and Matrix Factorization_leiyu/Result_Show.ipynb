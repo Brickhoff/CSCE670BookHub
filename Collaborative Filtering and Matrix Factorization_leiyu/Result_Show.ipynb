{
 "cells": [
  {
   "cell_type": "markdown",
   "metadata": {},
   "source": [
    "# Show the result of two actual users "
   ]
  },
  {
   "cell_type": "code",
   "execution_count": 2,
   "metadata": {},
   "outputs": [],
   "source": [
    "import json\n",
    "import math\n",
    "from pprint import pprint\n",
    "import numpy as np\n",
    "from sklearn.model_selection import StratifiedShuffleSplit\n",
    "import sklearn\n",
    "from sklearn.model_selection import train_test_split\n",
    "import pandas as pd\n",
    "import sys\n",
    "import operator"
   ]
  },
  {
   "cell_type": "code",
   "execution_count": 3,
   "metadata": {},
   "outputs": [],
   "source": [
    "def loadFile(filename):\n",
    "    datas = []\n",
    "    with open(filename) as f:\n",
    "        for line in f:\n",
    "            datas.append(json.loads(line))\n",
    "    return datas"
   ]
  },
  {
   "cell_type": "code",
   "execution_count": 5,
   "metadata": {},
   "outputs": [],
   "source": [
    "poem_dict = loadFile('poemTitle.json')[0]\n",
    "user_source = loadFile('two_user_end.json')[0]\n",
    "rc_more = loadFile('rc_po_5_more.json')[0]\n",
    "rc_less = loadFile('rc_po_5_less.json')[0]"
   ]
  },
  {
   "cell_type": "code",
   "execution_count": 6,
   "metadata": {},
   "outputs": [
    {
     "name": "stdout",
     "output_type": "stream",
     "text": [
      "[{'rate': {'18003300': 3, '25330489': 4, '34023590': 2},\n",
      "  'user_id': 'fab3e0cea61720dc85881bfc09d06b97'},\n",
      " {'rate': {'12914': 4,\n",
      "           '1371': 5,\n",
      "           '1381': 5,\n",
      "           '1519': 4,\n",
      "           '1715': 4,\n",
      "           '2696': 4,\n",
      "           '764332': 4},\n",
      "  'user_id': '26b5bed05bcabbabdaec4ee08fc43244'}]\n"
     ]
    }
   ],
   "source": [
    "pprint(user_source)\n",
    "user2 = user_source[0]\n",
    "user1 = user_source[1]"
   ]
  },
  {
   "cell_type": "code",
   "execution_count": 7,
   "metadata": {},
   "outputs": [
    {
     "name": "stdout",
     "output_type": "stream",
     "text": [
      "User1\t Book ID \t Book \t\t\t\t\tRating Score\n",
      "1 \t 764332 \t Jason and the Golden Fleece \t\t 4\n",
      "2 \t 1519 \t\t The Oresteia  (Ορέστεια, #1-3) \t\t 4\n",
      "3 \t 1715 \t\t Metamorphoses \t\t\t\t 4\n",
      "4 \t 12914 \t\t The Aeneid \t\t\t\t 4\n",
      "5 \t 1371 \t\t The Iliad \t\t\t\t 5\n",
      "6 \t 1381 \t\t The Odyssey \t\t\t\t 5\n",
      "7 \t 2696 \t\t The Canterbury Tales \t\t\t 4\n"
     ]
    }
   ],
   "source": [
    "\n",
    "print(\"User1\\t\", \"Book ID\",\"\\t Book\", \"\\t\\t\\t\\t\\tRating Score\")\n",
    "count = 1;\n",
    "for book_id in user1['rate']:\n",
    "    if count == 1:\n",
    "        print(count, \"\\t\",book_id,\"\\t\",poem_dict[book_id],\"\\t\\t\",user1['rate'][book_id])\n",
    "        count += 1;\n",
    "        continue;\n",
    "    if count < 3:\n",
    "        print(count, \"\\t\",book_id,\"\\t\\t\",poem_dict[book_id],\"\\t\\t\",user1['rate'][book_id])\n",
    "    else:\n",
    "        if count < 7:\n",
    "            print(count, \"\\t\",book_id,\"\\t\\t\",poem_dict[book_id],\"\\t\\t\\t\\t\",user1['rate'][book_id])\n",
    "        else:\n",
    "            print(count, \"\\t\",book_id,\"\\t\\t\",poem_dict[book_id],\"\\t\\t\\t\",user1['rate'][book_id])\n",
    "    count += 1;\n"
   ]
  },
  {
   "cell_type": "code",
   "execution_count": 8,
   "metadata": {},
   "outputs": [
    {
     "name": "stdout",
     "output_type": "stream",
     "text": [
      "User2\t Book \t\t\t\t\tRating Score\n",
      "1 \t Sad Girls \t\t\t\t\t 2\n",
      "2 \t Memories \t\t\t\t\t 4\n",
      "3 \t Love & Misadventure \t\t\t\t 3\n"
     ]
    }
   ],
   "source": [
    "print(\"User2\\t Book\", \"\\t\\t\\t\\t\\tRating Score\")\n",
    "count = 1;\n",
    "for book_id in user2['rate']:\n",
    "    if count < 3:\n",
    "        print(count, \"\\t\",poem_dict[book_id],\"\\t\\t\\t\\t\\t\",user2['rate'][book_id])\n",
    "    else:\n",
    "        print(count, \"\\t\",poem_dict[book_id],\"\\t\\t\\t\\t\",user2['rate'][book_id])\n",
    "    count += 1;"
   ]
  },
  {
   "cell_type": "code",
   "execution_count": 11,
   "metadata": {},
   "outputs": [
    {
     "name": "stdout",
     "output_type": "stream",
     "text": [
      "User 1's Recommandations\n",
      "Rank \t Book ID \t Book Name\n",
      "1 \t 6656 \t\t The Divine Comedy\n",
      "2 \t 15645 \t\t Inferno (The Divine Comedy #1)\n",
      "3 \t 1420 \t\t Hamlet\n",
      "4 \t 23919 \t\t The Complete Stories and Poems\n",
      "5 \t 333706 \t The Odyssey\n",
      "6 \t 15997 \t\t Paradise Lost\n",
      "7 \t 80410 \t\t Four Quartets\n",
      "8 \t 42051 \t\t The Complete Sonnets and Poems\n",
      "9 \t 42038 \t\t Shakespeare's Sonnets\n",
      "10 \t 782580 \t The Complete Poetry and Prose\n",
      "11 \t 269322 \t The Raven and Other Poems\n",
      "12 \t 118389 \t The Love Song of J. Alfred Prufrock and Other Poems\n",
      "13 \t 75504 \t\t The Collected Poems\n",
      "14 \t 23913 \t\t The Marriage of Heaven and Hell\n",
      "15 \t 23912 \t\t The Complete Poems\n",
      "16 \t 881508 \t Pan Tadeusz\n",
      "17 \t 142080 \t Collected Poems, 1909-1962\n",
      "18 \t 5931 \t\t The Essential Neruda: Selected Poems\n",
      "19 \t 1463 \t\t Euripides V: Electra / The Phoenician Women / The Bacchae\n",
      "20 \t 222035 \t Poemcrazy: Freeing Your Life with Words\n",
      "21 \t 134018 \t The Complete Poetry and Selected Prose\n",
      "22 \t 22221 \t\t The Iliad\n",
      "23 \t 34080 \t\t The Waste Land\n",
      "24 \t 94578 \t\t The Gay Science\n",
      "25 \t 53022 \t\t The Collected Poems of W.B. Yeats\n",
      "26 \t 1182095 \t The Branch Will Not Break\n",
      "27 \t 119234 \t Lord Byron: The Major Works\n",
      "28 \t 139004 \t Essays and Poems\n",
      "29 \t 19154 \t\t The Doré Illustrations for Dante's Divine Comedy\n",
      "30 \t 111044 \t Stop Pretending: What Happened When My Big Sister Went Crazy\n",
      "31 \t 86560 \t\t Rubaiyat of Omar Khayyam\n",
      "32 \t 44456 \t\t The Poetry and Short Stories of Dorothy Parker\n",
      "33 \t 1565561 \t The Essential Haiku: Versions of Basho, Buson, and Issa\n",
      "34 \t 58098 \t\t for colored girls who have considered suicide/when the rainbow is enuf\n",
      "35 \t 428537 \t The Sonnets and A Lover's Complaint\n",
      "36 \t 45974 \t\t The Book of Disquiet\n",
      "37 \t 632901 \t What Matters Most is How Well You Walk Through the Fire\n",
      "38 \t 79936 \t\t The Complete Poems and Plays, 1909-1950\n",
      "39 \t 1376 \t\t The Iliad\n",
      "40 \t 12201 \t\t Stopping by Woods on a Snowy Evening\n",
      "41 \t 386270 \t Selected Poems\n",
      "42 \t 412070 \t Selected Poems\n",
      "43 \t 361015 \t Venus and Adonis\n",
      "44 \t 45286 \t\t The Complete Poems\n",
      "45 \t 65343 \t\t Selected Poems\n",
      "46 \t 106458 \t The Selected Poems\n",
      "47 \t 22151696 \t Lullabies\n",
      "48 \t 150250 \t Glass, Irony and God\n",
      "49 \t 32552 \t\t Essential Tales and Poems\n",
      "50 \t 1589254 \t Hamlet\n"
     ]
    }
   ],
   "source": [
    "print(\"User 1's Recommandations\")\n",
    "print(\"Rank\", \"\\t Book ID\", \"\\t Book Name\")\n",
    "count = 1\n",
    "for i in range(50):\n",
    "    if int(rc_more[i][0]) < 100000:\n",
    "        print(count, \"\\t\", rc_more[i][0],\"\\t\\t\",rc_more[i][1])\n",
    "    else:\n",
    "        print(count, \"\\t\", rc_more[i][0],\"\\t\",rc_more[i][1])\n",
    "    count += 1\n",
    "#pprint(rc_more)"
   ]
  },
  {
   "cell_type": "code",
   "execution_count": 10,
   "metadata": {},
   "outputs": [
    {
     "name": "stdout",
     "output_type": "stream",
     "text": [
      "User 2's Recommandations\n",
      "Rank \t Book ID \t Book Name\n",
      "1 \t 22151696 \t Lullabies\n",
      "2 \t 29431081 \t The Universe of Us\n",
      "3 \t 23513349 \t Milk and Honey\n",
      "4 \t 25384844 \t Black Butterfly\n",
      "5 \t 23434371 \t Beautiful Chaos\n",
      "6 \t 13123245 \t B\n",
      "7 \t 13105527 \t I Wrote This For You\n",
      "8 \t 35606560 \t The Sun and Her Flowers\n",
      "9 \t 25746714 \t The Type\n",
      "10 \t 19230408 \t I Wrote This For You: Just the Words\n",
      "11 \t 23534 \t\t Love Is a Dog from Hell\n",
      "12 \t 18288210 \t No Matter the Wreckage\n",
      "13 \t 29457318 \t Habang Wala Pa Sila: Mga Tula ng Pag-ibig\n",
      "14 \t 13376363 \t Teaching My Mother How to Give Birth\n",
      "15 \t 32468495 \t Pillow Thoughts\n",
      "16 \t 7824768 \t ليتها تقرأ\n",
      "17 \t 6017893 \t قهوة وشيكولاتة\n",
      "18 \t 980426 \t Love Poems\n",
      "19 \t 20821097 \t Chasers of the Light: Poems from the Typewriter Series\n",
      "20 \t 11625 \t\t Ariel: The Restored Edition\n",
      "21 \t 23522212 \t Mouthful of Forevers\n",
      "22 \t 29758714 \t Dirty Pretty Things\n",
      "23 \t 31443393 \t Note to Self\n",
      "24 \t 6944946 \t يوميات امرأة لا مبالية\n",
      "25 \t 25986828 \t Today Means Amen\n",
      "26 \t 1294049 \t Love Songs\n",
      "27 \t 24688932 \t All The Things I Never Said\n",
      "28 \t 25334576 \t Grief is the Thing with Feathers\n",
      "29 \t 19265831 \t Hello, Baby\n",
      "30 \t 26850255 \t To The Women I Once Loved\n",
      "31 \t 27494 \t\t Leaves of Grass\n",
      "32 \t 47713 \t\t Collected Poems, 1912-1944\n",
      "33 \t 400412 \t The Waste Land and Other Poems\n",
      "34 \t 3049 \t\t Sir Gawain and the Green Knight\n",
      "35 \t 3109162 \t Ballistics\n",
      "36 \t 5868421 \t الرسم بالكلمات\n",
      "37 \t 539143 \t The World Doesn't End\n",
      "38 \t 34296927 \t I Love My Love\n",
      "39 \t 1434 \t\t Hamlet\n",
      "40 \t 1371 \t\t The Iliad\n",
      "41 \t 33667125 \t Lace Bone Beast: Poems & Other Fairytales for Wicked Girls\n",
      "42 \t 42051 \t\t The Complete Sonnets and Poems\n",
      "43 \t 5865732 \t سيبقى الحب سيدي\n",
      "44 \t 11958571 \t آخر الليل\n",
      "45 \t 12122965 \t أوراق الزيتون\n",
      "46 \t 8098264 \t الخيانة.. مشوار محرج لحد الحزن\n",
      "47 \t 26702564 \t Leave This Song Behind: Teen Poetry at Its Best\n",
      "48 \t 29752702 \t Whiskey Words & a Shovel II\n",
      "49 \t 29335538 \t Lavender\n",
      "50 \t 24717410 \t B\n"
     ]
    }
   ],
   "source": [
    "print(\"User 2's Recommandations\")\n",
    "print(\"Rank\", \"\\t Book ID\", \"\\t Book Name\")\n",
    "count = 1\n",
    "for i in range(50):\n",
    "    if int(rc_less[i][0]) < 100000:\n",
    "        print(count, \"\\t\", rc_less[i][0],\"\\t\\t\",rc_less[i][1])\n",
    "    else:\n",
    "        print(count, \"\\t\", rc_less[i][0],\"\\t\",rc_less[i][1])\n",
    "    count += 1\n",
    "#pprint(rc_more)"
   ]
  },
  {
   "cell_type": "code",
   "execution_count": null,
   "metadata": {},
   "outputs": [],
   "source": []
  }
 ],
 "metadata": {
  "kernelspec": {
   "display_name": "Python 3",
   "language": "python",
   "name": "python3"
  },
  "language_info": {
   "codemirror_mode": {
    "name": "ipython",
    "version": 3
   },
   "file_extension": ".py",
   "mimetype": "text/x-python",
   "name": "python",
   "nbconvert_exporter": "python",
   "pygments_lexer": "ipython3",
   "version": "3.7.1"
  }
 },
 "nbformat": 4,
 "nbformat_minor": 2
}
