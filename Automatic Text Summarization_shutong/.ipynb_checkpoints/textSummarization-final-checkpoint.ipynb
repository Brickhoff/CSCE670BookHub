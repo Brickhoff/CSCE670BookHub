{
 "cells": [
  {
   "cell_type": "markdown",
   "metadata": {},
   "source": [
    "## Extract review from web"
   ]
  },
  {
   "cell_type": "code",
   "execution_count": 1,
   "metadata": {},
   "outputs": [
    {
     "name": "stdout",
     "output_type": "stream",
     "text": [
      "[nltk_data] Downloading package stopwords to\n",
      "[nltk_data]     /Users/stjiao/nltk_data...\n",
      "[nltk_data]   Package stopwords is already up-to-date!\n"
     ]
    },
    {
     "data": {
      "text/plain": [
       "True"
      ]
     },
     "execution_count": 1,
     "metadata": {},
     "output_type": "execute_result"
    }
   ],
   "source": [
    "import re\n",
    "import math\n",
    "import numpy as np\n",
    "import requests\n",
    "\n",
    "from textblob import TextBlob\n",
    "from wordfreq import word_frequency\n",
    "from bs4 import BeautifulSoup\n",
    "import pandas as pd\n",
    "from nltk.corpus import stopwords\n",
    "from gensim.summarization import summarize\n",
    "from gensim.summarization.textcleaner import clean_text_by_sentences\n",
    "import json\n",
    "from gensim.summarization import keywords\n",
    "import nltk\n",
    "nltk.download('stopwords')"
   ]
  },
  {
   "cell_type": "code",
   "execution_count": 2,
   "metadata": {},
   "outputs": [],
   "source": [
    "isbns = []"
   ]
  },
  {
   "cell_type": "code",
   "execution_count": 3,
   "metadata": {},
   "outputs": [],
   "source": [
    "with open('isbnDict.json', 'r') as outfile:  \n",
    "    isbns = json.load(outfile)"
   ]
  },
  {
   "cell_type": "code",
   "execution_count": 4,
   "metadata": {},
   "outputs": [],
   "source": [
    "isbns = list(isbns.values())"
   ]
  },
  {
   "cell_type": "code",
   "execution_count": 5,
   "metadata": {},
   "outputs": [
    {
     "data": {
      "text/plain": [
       "['4253216463',\n",
       " '1632150069',\n",
       " '1595822771',\n",
       " '1934985538',\n",
       " ' ',\n",
       " '1591828643',\n",
       " '0375714766',\n",
       " '0811839869',\n",
       " '0375843884',\n",
       " ' ',\n",
       " '0590503111',\n",
       " '0698115678',\n",
       " '1844280136',\n",
       " '092023691X',\n",
       " '1567922392',\n",
       " ' ',\n",
       " '0590424939',\n",
       " '9045101130',\n",
       " '0345481291',\n",
       " '0747401659',\n",
       " '075640407X',\n",
       " '8804565217',\n",
       " '0743400356',\n",
       " '0446563072',\n",
       " '0385689225',\n",
       " '0330021044',\n",
       " ' ',\n",
       " '0152053107',\n",
       " '0345521307',\n",
       " '0743487877',\n",
       " '0525426019',\n",
       " '0425181111',\n",
       " ' ',\n",
       " '0425115801',\n",
       " ' ',\n",
       " '0440228441',\n",
       " '0802133479',\n",
       " '0061228435',\n",
       " '0064462188',\n",
       " '0062362763',\n",
       " ' ',\n",
       " '6020229874',\n",
       " '0545240778',\n",
       " ' ',\n",
       " '1466833793',\n",
       " '142316525X',\n",
       " '0062036890',\n",
       " '1250061776',\n",
       " '1416991824',\n",
       " ' ']"
      ]
     },
     "execution_count": 5,
     "metadata": {},
     "output_type": "execute_result"
    }
   ],
   "source": [
    "isbns"
   ]
  },
  {
   "cell_type": "code",
   "execution_count": 6,
   "metadata": {},
   "outputs": [],
   "source": [
    "# extract review from good read\n",
    "# TODO : a list of reviews\n",
    "def extractReview(isbn):\n",
    "    searchHeader=\"https://www.goodreads.com/search?q=\"\n",
    "    response = requests.get(searchHeader+isbn)\n",
    "    soup = BeautifulSoup(response.text, 'lxml')\n",
    "    review_divs = soup.findAll('div', {'class' :'reviewText stacked'})\n",
    "    reviews = []\n",
    "    for div in review_divs:\n",
    "#         print(div.findAll('span'))\n",
    "        if len(div.findAll('span')) < 3:\n",
    "            continue\n",
    "        review = div.findAll('span')[2]\n",
    "        reviews.append(\"\".join(review.strings).strip())\n",
    "        if len(reviews) > 10:\n",
    "            break\n",
    "    return reviews\n",
    "#     print(response.text)\n",
    "#     address = soup.find('div', {'class' :'reviewFooter uitext buttons'}).findAll('a')[3]['href']\n",
    "#     print(address)\n",
    "#     reviews = []\n",
    "    \n",
    "#     header = \"https://www.goodreads.com\"\n",
    "#     review_response = requests.get(header+address)\n",
    "#     soup2 = BeautifulSoup(review_response.text, 'lxml')\n",
    "#     res = soup2.find('div', {'class' :'reviewText mediumText description readable'})\n",
    "#     print(\"\".join(res.strings))\n",
    "    \n",
    "#     return \"\".join(res.strings).strip()\n",
    "    "
   ]
  },
  {
   "cell_type": "code",
   "execution_count": 7,
   "metadata": {},
   "outputs": [],
   "source": [
    "# extract description from good read TODO\n",
    "def extractDescpription(isbn):\n",
    "    searchHeader=\"https://www.goodreads.com/search?q=\"\n",
    "    response = requests.get(searchHeader+isbn)\n",
    "    soup = BeautifulSoup(response.text, 'lxml')\n",
    "    desc = soup.find('div', {'id' :'description'}).findAll('span')\n",
    "    if len(desc) < 2:\n",
    "         index = 0\n",
    "    else:\n",
    "        index = 1\n",
    "    return \"\".join(desc[index].strings).strip()\n",
    "#     print(response.text)\n",
    "#     address = soup.find('div', {'class' :'reviewFooter uitext buttons'}).findAll('a')[3]['href']\n",
    "#     print(address)\n",
    "    \n",
    "#     header = \"https://www.goodreads.com\"\n",
    "#     review_response = requests.get(header+address)\n",
    "#     soup2 = BeautifulSoup(review_response.text, 'lxml')\n",
    "#     res = soup2.find('div', {'class' :'reviewText mediumText description readable'})\n",
    "#     print(\"\".join(res.strings))\n",
    "    \n",
    "#     return \"\".join(res.strings).strip()"
   ]
  },
  {
   "cell_type": "code",
   "execution_count": 8,
   "metadata": {},
   "outputs": [
    {
     "ename": "AttributeError",
     "evalue": "'NoneType' object has no attribute 'findAll'",
     "output_type": "error",
     "traceback": [
      "\u001b[0;31m---------------------------------------------------------------------------\u001b[0m",
      "\u001b[0;31mAttributeError\u001b[0m                            Traceback (most recent call last)",
      "\u001b[0;32m<ipython-input-8-fc278ec7be9f>\u001b[0m in \u001b[0;36m<module>\u001b[0;34m()\u001b[0m\n\u001b[0;32m----> 1\u001b[0;31m \u001b[0mextractDescpription\u001b[0m\u001b[0;34m(\u001b[0m\u001b[0;34m\"4253216463\"\u001b[0m\u001b[0;34m)\u001b[0m\u001b[0;34m\u001b[0m\u001b[0m\n\u001b[0m",
      "\u001b[0;32m<ipython-input-7-980ee6001bc5>\u001b[0m in \u001b[0;36mextractDescpription\u001b[0;34m(isbn)\u001b[0m\n\u001b[1;32m      4\u001b[0m     \u001b[0mresponse\u001b[0m \u001b[0;34m=\u001b[0m \u001b[0mrequests\u001b[0m\u001b[0;34m.\u001b[0m\u001b[0mget\u001b[0m\u001b[0;34m(\u001b[0m\u001b[0msearchHeader\u001b[0m\u001b[0;34m+\u001b[0m\u001b[0misbn\u001b[0m\u001b[0;34m)\u001b[0m\u001b[0;34m\u001b[0m\u001b[0m\n\u001b[1;32m      5\u001b[0m     \u001b[0msoup\u001b[0m \u001b[0;34m=\u001b[0m \u001b[0mBeautifulSoup\u001b[0m\u001b[0;34m(\u001b[0m\u001b[0mresponse\u001b[0m\u001b[0;34m.\u001b[0m\u001b[0mtext\u001b[0m\u001b[0;34m,\u001b[0m \u001b[0;34m'lxml'\u001b[0m\u001b[0;34m)\u001b[0m\u001b[0;34m\u001b[0m\u001b[0m\n\u001b[0;32m----> 6\u001b[0;31m     \u001b[0mdesc\u001b[0m \u001b[0;34m=\u001b[0m \u001b[0msoup\u001b[0m\u001b[0;34m.\u001b[0m\u001b[0mfind\u001b[0m\u001b[0;34m(\u001b[0m\u001b[0;34m'div'\u001b[0m\u001b[0;34m,\u001b[0m \u001b[0;34m{\u001b[0m\u001b[0;34m'id'\u001b[0m \u001b[0;34m:\u001b[0m\u001b[0;34m'description'\u001b[0m\u001b[0;34m}\u001b[0m\u001b[0;34m)\u001b[0m\u001b[0;34m.\u001b[0m\u001b[0mfindAll\u001b[0m\u001b[0;34m(\u001b[0m\u001b[0;34m'span'\u001b[0m\u001b[0;34m)\u001b[0m\u001b[0;34m\u001b[0m\u001b[0m\n\u001b[0m\u001b[1;32m      7\u001b[0m     \u001b[0;32mif\u001b[0m \u001b[0mlen\u001b[0m\u001b[0;34m(\u001b[0m\u001b[0mdesc\u001b[0m\u001b[0;34m)\u001b[0m \u001b[0;34m<\u001b[0m \u001b[0;36m2\u001b[0m\u001b[0;34m:\u001b[0m\u001b[0;34m\u001b[0m\u001b[0m\n\u001b[1;32m      8\u001b[0m          \u001b[0mindex\u001b[0m \u001b[0;34m=\u001b[0m \u001b[0;36m0\u001b[0m\u001b[0;34m\u001b[0m\u001b[0m\n",
      "\u001b[0;31mAttributeError\u001b[0m: 'NoneType' object has no attribute 'findAll'"
     ]
    }
   ],
   "source": [
    "extractDescpription(\"4253216463\")"
   ]
  },
  {
   "cell_type": "code",
   "execution_count": 12,
   "metadata": {},
   "outputs": [],
   "source": [
    "# good example\n",
    "review=extractReview(\"0679433139\")[0]"
   ]
  },
  {
   "cell_type": "code",
   "execution_count": 13,
   "metadata": {},
   "outputs": [],
   "source": [
    "# transform review into a list of sentences\n",
    "def Review2sen(review):\n",
    "#     blob = TextBlob(\" \".join(review))\n",
    "#     sentences = [item.raw for item in blob.sentences]\n",
    "#     sentences = [\" \".join([\"\".join(w.split(\" \")) for w in item.split(\"  \")]) for item in sentences]\n",
    "    raw = clean_text_by_sentences(review)\n",
    "    sentences = []\n",
    "    for i in range(0,len(raw)):\n",
    "        sentences.append(raw[i].text)\n",
    "    return sentences"
   ]
  },
  {
   "cell_type": "code",
   "execution_count": 14,
   "metadata": {},
   "outputs": [],
   "source": [
    "sentences = Review2sen(review)"
   ]
  },
  {
   "cell_type": "code",
   "execution_count": 15,
   "metadata": {},
   "outputs": [
    {
     "data": {
      "text/plain": [
       "['\"You can recognize a small truth because its opposite is a falsehood.',\n",
       " 'The opposite of a great truth is another truth.\" - Niels BohrI was thinking about Dante the other day and wondering how one could approach him from the angle of a GoodReads review.',\n",
       " 'One of the obvious problems is that he lived a long time ago, and many of the cultural referents have changed.',\n",
       " 'You\\'re constantly having to think \"Well, nowadays what he\\'s saying would correspond to THAT\".',\n",
       " \"It isn't so bad in Hell, when there is plenty of entertainment to be had in seeing how the different sins are punished, and indulging your schadenfreude.\",\n",
       " \"Then Purgatory tells a moral story that's more or less timeless if you go for that sort of thing, but once you arrive in Paradise it starts getting seriously tricky.\",\n",
       " 'A lot of the stuff at first sight just seems irrelevant to the 21st century world...',\n",
       " 'all these explanations about the mechanics of Ptolomaic astronomy, and Dante querying the inhabitants of Heaven on obscure theological points.',\n",
       " \"It's notorious that readers most often give up somewhere in the third book.\",\n",
       " 'I started wondering if there was any modern-day author one could identify with Dante, and if that might help us connect to his concerns.',\n",
       " 'And in fact, I do have a suggestion that some people will no doubt condemn out of hand as completely heretical: Richard Dawkins.',\n",
       " \"Now of course, I am aware that Dante was deeply immersed in the Christian world-view, and Dawkins is famous for being the world's most outspoken atheist.\",\n",
       " \"But it's not quite as crazy as it first may seem.\",\n",
       " 'Dante was a Christian to the core of his being, but he was furious with the way the Church was being run; he put several of its leaders, notably Pope Boniface VIII, in Hell.',\n",
       " 'On the other side, I challenge anyone to read \"The Ancestor\\'s Tale\" to the end, and not, at least for a moment, entertain the idea that Dawkins is in actual fact a deeply religious man.',\n",
       " 'He admits as much himself: as he puts it, it\\'s often not so much that he disagrees with conventionally religious people, more that \"they are saying it wrong\".',\n",
       " 'Amen to that.As noted, both Dante and Dawkins are extremely unhappy with the way mainstream religion is being organized.',\n",
       " 'The other characteristic that unites them for me is this passionate love for science.',\n",
       " 'One has to remember that, for Dante, Ptolomaic astronomy was state of the art stuff, and the details of the angelic hierarchy were a topic of vital importance; of course he cross-examines the hosts of the blessed to find out more.',\n",
       " 'These days, I imagine he would be trying to get inside information on what happened during the Big Bang before spontaneous symmetry breaking occurred, whether or not the Higgs particle really exists, and how evolution produced human intelligence.',\n",
       " \"For Dante, there didn't seem to be any opposition between religious faith and science - they were part of the same thing.\",\n",
       " 'I do wonder what he would have thought if he had been able to learn that many leading religious figures, even in the early 21st century, reject a large part of science as being somehow unreligious.',\n",
       " \"It's wrong to spend your life dispassionately trying to understand God's Universe?\",\n",
       " 'I can see him getting quite angry about this, and deciding to rearrange the seating a little down in Hell.I keep thinking that there\\'s a book someone ought to write called \"Five Atheists You\\'ll Meet in Heaven\".',\n",
       " \"Please let me know when it comes out; I'll buy a copy at once.**************************************PS I couldn't help wondering what Paradise might have looked like if Dante had been writing today.\",\n",
       " \"Obviously we wouldn't have the old geocentric model of the Universe - it would be bang up to date.\",\n",
       " 'I think there is now far more material for an ambitious poet to work with than there was in the 14th century.',\n",
       " 'For example, when we get to the Heaven of the Galaxy, I imagine him using this wonderful fact that all the heavy elements are made in supernova explosions.',\n",
       " '\"We are all stardust\", as some people like to put it.',\n",
       " 'Then when we get to the Heaven of the Cosmos, we find that the light from the \"Let there be light\" moment at the beginning of Creation is still around - it\\'s just cooled to 2.7 degrees K, and appears as the cosmic background radiation.',\n",
       " \"But it's not completely uniform, as the quantum fluctuations left over from the period when the Universe was the size of an atomic nucleus are the beginnings of the galaxies created on the second day.\",\n",
       " 'Finally, we reach the Heaven of the Multiverse, and find that we are just one of many different universes.',\n",
       " 'It was necessary to create all of them, so that random processes could make sure that a very small number would end up being able to support life.',\n",
       " 'How impious to assume that God would only be able to create one Universe, and have to tweak all the constants Himself!']"
      ]
     },
     "execution_count": 15,
     "metadata": {},
     "output_type": "execute_result"
    }
   ],
   "source": [
    "sentences"
   ]
  },
  {
   "cell_type": "code",
   "execution_count": 16,
   "metadata": {},
   "outputs": [],
   "source": [
    "stopwords = set(stopwords.words('english'))"
   ]
  },
  {
   "cell_type": "code",
   "execution_count": 17,
   "metadata": {},
   "outputs": [],
   "source": [
    "count = {}\n",
    "for i in range(0,len(sentences)):\n",
    "    blob = TextBlob(sentences[i])\n",
    "    for word in blob.words:\n",
    "        word = word.lower()\n",
    "        if word in stopwords:\n",
    "            continue\n",
    "        if word not in count:\n",
    "            count[word] = {}\n",
    "        if i not in count[word]:\n",
    "            count[word][i] = 0\n",
    "        count[word][i] = count[word][i] + 1\n",
    "\n",
    "countMap = pd.DataFrame(data = count)\n",
    "\n",
    "countMap = countMap.fillna(0)"
   ]
  },
  {
   "cell_type": "markdown",
   "metadata": {},
   "source": [
    "## TF-IDF and BM25 base tag method"
   ]
  },
  {
   "cell_type": "code",
   "execution_count": 25,
   "metadata": {},
   "outputs": [],
   "source": [
    "puncs = set((\"\\'s\",\"\\'re\",\"n't\"))"
   ]
  },
  {
   "cell_type": "code",
   "execution_count": 26,
   "metadata": {},
   "outputs": [
    {
     "name": "stdout",
     "output_type": "stream",
     "text": [
      "3.47e-05\n",
      "0.000331\n",
      "0.000117\n",
      "4.27e-05\n",
      "8.91e-07\n",
      "0.000708\n",
      "0.00055\n",
      "5.13e-07\n",
      "0.00017\n",
      "4.17e-06\n",
      "0.000851\n",
      "2.95e-05\n",
      "0.00302\n",
      "0.0012\n",
      "9.12e-05\n",
      "2.4e-05\n",
      "2.57e-07\n",
      "0.000123\n",
      "4.37e-05\n",
      "0.00017\n",
      "8.32e-05\n",
      "0.000646\n",
      "0.00191\n",
      "0.000234\n",
      "0.000832\n",
      "7.08e-05\n",
      "8.71e-08\n",
      "0.000117\n",
      "3.31e-05\n",
      "0.00115\n",
      "0.0011\n",
      "1.29e-05\n",
      "0.000224\n",
      "0.00186\n",
      "4.79e-06\n",
      "0.000339\n",
      "0.000132\n",
      "4.17e-05\n",
      "3.31e-05\n",
      "0.000102\n",
      "0.000398\n",
      "1.26e-05\n",
      "1.07e-05\n",
      "9.55e-07\n",
      "2.34e-07\n",
      "1.41e-06\n",
      "5.75e-05\n",
      "3.09e-05\n",
      "0.000245\n",
      "0.000324\n",
      "3.02e-06\n",
      "0.00112\n",
      "9.55e-05\n",
      "0.00049\n",
      "2.51e-05\n",
      "1.55e-05\n",
      "6.17e-05\n",
      "0.000331\n",
      "9.55e-05\n",
      "7.59e-06\n",
      "0.000355\n",
      "0.00012\n",
      "0.00135\n",
      "3.47e-05\n",
      "0.000162\n",
      "1.02e-05\n",
      "2.45e-05\n",
      "0.000132\n",
      "0.000832\n",
      "6.61e-06\n",
      "1.12e-05\n",
      "4.47e-06\n",
      "2.75e-07\n",
      "1.86e-05\n",
      "4.68e-05\n",
      "6.76e-06\n",
      "6.92e-06\n",
      "0.000162\n",
      "6.61e-06\n",
      "2.34e-05\n",
      "0.000263\n",
      "0.000513\n",
      "5.5e-05\n",
      "0.000209\n",
      "0.000251\n",
      "0.000214\n",
      "9.91e-05\n",
      "7.76e-05\n",
      "3.72e-05\n",
      "0.000447\n",
      "0.000513\n",
      "0.00102\n",
      "2.45e-05\n",
      "6.76e-05\n",
      "0.000269\n",
      "1.7e-05\n",
      "0.0017\n",
      "7.94e-05\n",
      "5.37e-06\n",
      "0.000251\n",
      "9.33e-05\n",
      "5.62e-07\n",
      "5.89e-05\n",
      "1.41e-06\n",
      "0.000282\n",
      "6.31e-05\n",
      "2.82e-05\n",
      "2.63e-06\n",
      "8.32e-05\n",
      "0.000138\n",
      "7.41e-05\n",
      "2.24e-06\n",
      "4.9e-06\n",
      "0.000186\n",
      "0.00011\n",
      "0.00102\n",
      "0.000117\n",
      "5.62e-05\n",
      "1e-05\n",
      "0.000977\n",
      "0.00017\n",
      "0.000295\n",
      "0.000447\n",
      "0.000263\n",
      "7.08e-05\n",
      "1.32e-05\n",
      "3.16e-05\n",
      "7.94e-07\n",
      "5.89e-06\n",
      "0.000309\n",
      "7.08e-05\n",
      "0.000214\n",
      "0.000309\n",
      "3.31e-06\n",
      "1.74e-05\n",
      "0.00049\n",
      "0.000269\n",
      "0.000174\n",
      "5.89e-06\n",
      "0.000219\n",
      "6.92e-05\n",
      "8.91e-05\n",
      "0.000692\n",
      "7.24e-06\n",
      "0.001\n",
      "3.24e-05\n",
      "1.58e-06\n",
      "9.77e-07\n",
      "0.00024\n",
      "9.55e-06\n",
      "6.31e-05\n",
      "5.89e-05\n",
      "1.26e-05\n",
      "1.58e-05\n",
      "6.46e-05\n",
      "3.89e-05\n",
      "1.12e-05\n",
      "1.58e-06\n",
      "1.07e-05\n",
      "0.000603\n",
      "0.000138\n",
      "0.000229\n",
      "0.000525\n",
      "0.000186\n",
      "7.76e-05\n",
      "1.29e-06\n",
      "6.61e-06\n",
      "2.82e-05\n",
      "2.51e-05\n",
      "5.13e-05\n",
      "3.75e-06\n",
      "1.66e-05\n",
      "1.91e-05\n",
      "0.00055\n",
      "0.000398\n",
      "7.41e-05\n",
      "0.000269\n",
      "0.00182\n",
      "0.000141\n",
      "0.000263\n",
      "0.000148\n",
      "0.000417\n",
      "2.04e-05\n",
      "5.37e-06\n",
      "3.31e-06\n",
      "5.25e-05\n",
      "4.47e-05\n",
      "0.000219\n",
      "1.1e-06\n",
      "8.13e-06\n",
      "0.000851\n",
      "3.47e-05\n",
      "3.09e-05\n",
      "8.32e-05\n",
      "0.000251\n",
      "5.25e-05\n",
      "4.79e-05\n",
      "7.24e-05\n",
      "0.000617\n",
      "7.59e-05\n",
      "0.000389\n",
      "0.000263\n",
      "0.000145\n",
      "9.55e-05\n",
      "5.5e-05\n",
      "0.000955\n",
      "0.000282\n",
      "1.17e-05\n",
      "0.000251\n",
      "3.02e-05\n",
      "1.02e-08\n",
      "8.51e-05\n",
      "0.000776\n",
      "1.07e-07\n",
      "0.000224\n",
      "0.000468\n",
      "3.89e-05\n",
      "0.00129\n",
      "4.47e-05\n",
      "1.2e-05\n",
      "9.77e-07\n",
      "4.79e-06\n",
      "0.000562\n",
      "0.000417\n",
      "0.000389\n",
      "2.14e-05\n",
      "0.000102\n",
      "0.000398\n",
      "0.000288\n",
      "2.09e-06\n",
      "1.07e-05\n",
      "0.000195\n",
      "0.000479\n",
      "0.000389\n",
      "0.00129\n",
      "0.000204\n",
      "0.000174\n",
      "5.75e-05\n",
      "1.05e-05\n",
      "0.000123\n",
      "0.00245\n",
      "0.000115\n",
      "0.000347\n",
      "6.17e-05\n",
      "0.000562\n",
      "1.78e-07\n",
      "0.000135\n",
      "0.000151\n",
      "0.000324\n",
      "9.77e-05\n",
      "1.05e-05\n",
      "1.91e-05\n",
      "0.000891\n",
      "0.000234\n",
      "0.000224\n",
      "1.66e-05\n",
      "0.000295\n",
      "5.75e-05\n",
      "8.71e-05\n",
      "6.03e-05\n",
      "0.000832\n",
      "1.45e-06\n",
      "4.79e-06\n",
      "1.2e-06\n",
      "3.55e-06\n",
      "0.000214\n",
      "0.00011\n",
      "4.17e-05\n",
      "0.000813\n",
      "0.000537\n",
      "4.07e-06\n",
      "0.000427\n",
      "3.39e-05\n",
      "8.13e-05\n",
      "7.41e-05\n",
      "6.17e-06\n",
      "5.75e-05\n",
      "2.04e-05\n",
      "2.24e-05\n",
      "1.05e-05\n",
      "3.72e-06\n",
      "0.000427\n",
      "0.000191\n",
      "0.000135\n",
      "1.05e-05\n",
      "4.27e-06\n",
      "4.79e-06\n",
      "3.63e-06\n",
      "0.00012\n",
      "0.000437\n",
      "0.000151\n",
      "8.91e-05\n",
      "4.68e-07\n",
      "1.23e-06\n",
      "0.000112\n",
      "0.000107\n",
      "3.63e-05\n",
      "3.63e-05\n",
      "0.00112\n",
      "0.000417\n",
      "0.000437\n",
      "0.000309\n",
      "1.32e-07\n",
      "3.89e-05\n",
      "1.29e-06\n",
      "1.26e-06\n"
     ]
    }
   ],
   "source": [
    "word_score = {}\n",
    "for word in countMap.columns:\n",
    "    if word in puncs:\n",
    "        continue\n",
    "    df = word_frequency(word, 'en')\n",
    "    if df == 0.0:\n",
    "        word_score[word] = 0\n",
    "        continue\n",
    "    print(df)\n",
    "    idf = math.log(1.0/df,math.e)\n",
    "    tf = (countMap[word] != 0).sum()\n",
    "    weight = tf * idf\n",
    "    word_score[word] = weight\n",
    "\n",
    "word_score_sorted = sorted(word_score, key=word_score.get, reverse=True)\n"
   ]
  },
  {
   "cell_type": "code",
   "execution_count": 27,
   "metadata": {},
   "outputs": [],
   "source": [
    "allowed_words = word_score_sorted[:int(countMap.shape[1]*0.2)]"
   ]
  },
  {
   "cell_type": "code",
   "execution_count": 28,
   "metadata": {},
   "outputs": [
    {
     "data": {
      "text/plain": [
       "['dante',\n",
       " 'dawkins',\n",
       " 'heaven',\n",
       " 'universe',\n",
       " 'would',\n",
       " 'religious',\n",
       " 'one',\n",
       " 'wondering',\n",
       " 'could',\n",
       " 'century',\n",
       " 'science',\n",
       " 'able',\n",
       " 'fact',\n",
       " 'astronomy',\n",
       " \"'ll\",\n",
       " 'find',\n",
       " 'paradise',\n",
       " 'bang',\n",
       " 'many',\n",
       " '21st',\n",
       " 'deeply',\n",
       " 'opposite',\n",
       " 'people',\n",
       " 'imagine',\n",
       " 'get',\n",
       " 'christian',\n",
       " 'completely',\n",
       " 'unreligious',\n",
       " 'create',\n",
       " 'truth',\n",
       " 'seem',\n",
       " 'stuff',\n",
       " 'hell',\n",
       " 'thinking',\n",
       " 'moment',\n",
       " 'quite',\n",
       " 'saying',\n",
       " 'wrong',\n",
       " 'book',\n",
       " 'often',\n",
       " 'trying',\n",
       " 'course',\n",
       " 'referents',\n",
       " 'dispassionately',\n",
       " 'small',\n",
       " 'getting',\n",
       " 'impious',\n",
       " 'let',\n",
       " 'different',\n",
       " 'geocentric',\n",
       " 'might',\n",
       " 'put',\n",
       " 'god',\n",
       " 'schadenfreude',\n",
       " 'thing',\n",
       " 'end',\n",
       " 'goodreads',\n",
       " 'help',\n",
       " 'querying',\n",
       " 'part',\n",
       " 'multiverse',\n",
       " 'niels']"
      ]
     },
     "execution_count": 28,
     "metadata": {},
     "output_type": "execute_result"
    }
   ],
   "source": [
    "allowed_words"
   ]
  },
  {
   "cell_type": "code",
   "execution_count": 29,
   "metadata": {},
   "outputs": [],
   "source": [
    "# get weight,idf,tf for query_term\n",
    "def TfIdfScore(query_term,sentence,countMap):\n",
    "#  get term freq\n",
    "    tf = 0\n",
    "    for word in sentence:\n",
    "        if word.lower() == query_term:\n",
    "            tf= tf + 1\n",
    "    if (tf == 0) :\n",
    "        return 0,0,0\n",
    "    \n",
    "#     get idf\n",
    "#     print(tf)\n",
    "#     df = countMap[query_term]\n",
    "    df = (countMap[query_term] != 0).sum()\n",
    "    idf = math.log(countMap.shape[0]/df,math.e)\n",
    "#     weight = (1 + math.log(tf,math.e)) * idf\n",
    "    weight = (tf) * idf\n",
    "#     print(idf)\n",
    "#     print(df)\n",
    "\n",
    "    return weight,tf,idf"
   ]
  },
  {
   "cell_type": "code",
   "execution_count": 30,
   "metadata": {},
   "outputs": [
    {
     "data": {
      "text/plain": [
       "25.323529411764707"
      ]
     },
     "execution_count": 30,
     "metadata": {},
     "output_type": "execute_result"
    }
   ],
   "source": [
    "avgdl = 0.0\n",
    "for i in range(0,countMap.shape[0]):\n",
    "    blob = TextBlob(sentences[i])\n",
    "    avgdl = avgdl + len(blob.words)\n",
    "#     print(avgdl)\n",
    "avgdl = avgdl / countMap.shape[0]\n",
    "avgdl"
   ]
  },
  {
   "cell_type": "code",
   "execution_count": 31,
   "metadata": {},
   "outputs": [],
   "source": [
    "def BM25scoreWrapper(input_avgdl):\n",
    "    def BM25score(query_term,sentence,countMap,avgdl=input_avgdl,k1=1.2,b=0.75):\n",
    "        weight,tf,idf = TfIdfScore(query_term,sentence,countMap)\n",
    "        doclen = len(sentence)\n",
    "        return idf * (tf * (k1 + 1)) / (tf + k1 * (1- b + b * doclen/avgdl)),tf,idf\n",
    "    return BM25score"
   ]
  },
  {
   "cell_type": "code",
   "execution_count": 32,
   "metadata": {},
   "outputs": [],
   "source": [
    "def BM25score(query_term,sentence,countMap,avgdl,k1=1.2,b=0.75):\n",
    "    weight,tf,idf = TfIdfScore(query_term,sentence,countMap)\n",
    "#     blob = TextBlob(sentence)\n",
    "    doclen = len(sentence)\n",
    "    return idf * (tf * (k1 + 1)) / (tf + k1 * (1- b + b * doclen/avgdl)),tf,idf"
   ]
  },
  {
   "cell_type": "code",
   "execution_count": 33,
   "metadata": {},
   "outputs": [],
   "source": [
    "def sentenceScore(sentences, scoreFunc,allowedWords = {}):\n",
    "    senScore = {}\n",
    "    for i in range(0,len(sentences)):\n",
    "        blob = TextBlob(sentences[i])\n",
    "        senScore[i] = 0.0\n",
    "        for word in blob.words:\n",
    "            word = word.lower()\n",
    "            if word in stopwords:\n",
    "                continue\n",
    "            if allowedWords != {} and word not in allowedWords:\n",
    "                continue\n",
    "#             print(scoreFunc(word,blob.words,countMap)[0])\n",
    "            senScore[i] = senScore[i] + scoreFunc(word,blob.words,countMap)[0]\n",
    "    sen_sorted = sorted(senScore, key=senScore.get, reverse=True)\n",
    "    \n",
    "    return senScore,sen_sorted"
   ]
  },
  {
   "cell_type": "code",
   "execution_count": 34,
   "metadata": {},
   "outputs": [],
   "source": [
    "indexes = sentenceScore(sentences,TfIdfScore,allowed_words)[1]"
   ]
  },
  {
   "cell_type": "code",
   "execution_count": 36,
   "metadata": {},
   "outputs": [],
   "source": [
    "def indexes2Sum(indexes,sentences):\n",
    "    res = \"\"\n",
    "    sorted_indexes = sorted(indexes[:10])\n",
    "    for index in sorted_indexes:\n",
    "        res = res + sentences[index]\n",
    "    return res"
   ]
  },
  {
   "cell_type": "code",
   "execution_count": 37,
   "metadata": {},
   "outputs": [
    {
     "data": {
      "text/plain": [
       "({0: 15.55236108140097,\n",
       "  1: 55.67492900743517,\n",
       "  2: 35.899594012881614,\n",
       "  3: 26.16129561839914,\n",
       "  4: 36.017377048537995,\n",
       "  5: 51.94443157938038,\n",
       "  6: 27.866043710637562,\n",
       "  7: 33.597008919887564,\n",
       "  8: 24.426694563011033,\n",
       "  9: 37.98250176253793,\n",
       "  10: 30.986939127145565,\n",
       "  11: 37.08868388651584,\n",
       "  12: 16.68082633321876,\n",
       "  13: 47.925594569666416,\n",
       "  14: 55.12595161770481,\n",
       "  15: 42.40680388036006,\n",
       "  16: 34.51329965176172,\n",
       "  17: 16.533190334412698,\n",
       "  18: 59.14066491023489,\n",
       "  19: 76.13647876659572,\n",
       "  20: 23.589377591621506,\n",
       "  21: 58.04205262156679,\n",
       "  22: 28.565862120840784,\n",
       "  23: 70.10686245352336,\n",
       "  24: 56.773541296103296,\n",
       "  25: 31.683552515681995,\n",
       "  26: 26.41912472770124,\n",
       "  27: 41.34287714967983,\n",
       "  28: 11.620535448676645,\n",
       "  29: 73.51543994248313,\n",
       "  30: 51.25128439882043,\n",
       "  31: 25.445675581987135,\n",
       "  32: 42.31979250337043,\n",
       "  33: 27.80888529679762},\n",
       " [19,\n",
       "  29,\n",
       "  23,\n",
       "  18,\n",
       "  21,\n",
       "  24,\n",
       "  1,\n",
       "  14,\n",
       "  5,\n",
       "  30,\n",
       "  13,\n",
       "  15,\n",
       "  32,\n",
       "  27,\n",
       "  9,\n",
       "  11,\n",
       "  4,\n",
       "  2,\n",
       "  16,\n",
       "  7,\n",
       "  25,\n",
       "  10,\n",
       "  22,\n",
       "  6,\n",
       "  33,\n",
       "  26,\n",
       "  3,\n",
       "  31,\n",
       "  8,\n",
       "  20,\n",
       "  12,\n",
       "  17,\n",
       "  0,\n",
       "  28])"
      ]
     },
     "execution_count": 37,
     "metadata": {},
     "output_type": "execute_result"
    }
   ],
   "source": [
    "sentenceScore(sentences,TfIdfScore)"
   ]
  },
  {
   "cell_type": "code",
   "execution_count": 38,
   "metadata": {},
   "outputs": [],
   "source": [
    "indexes = sentenceScore(sentences,BM25scoreWrapper(avgdl),allowed_words)[1]"
   ]
  },
  {
   "cell_type": "code",
   "execution_count": 40,
   "metadata": {},
   "outputs": [
    {
     "data": {
      "text/plain": [
       "'The opposite of a great truth is another truth.\" - Niels BohrI was thinking about Dante the other day and wondering how one could approach him from the angle of a GoodReads review.I do wonder what he would have thought if he had been able to learn that many leading religious figures, even in the early 21st century, reject a large part of science as being somehow unreligious.It\\'s wrong to spend your life dispassionately trying to understand God\\'s Universe?Please let me know when it comes out; I\\'ll buy a copy at once.**************************************PS I couldn\\'t help wondering what Paradise might have looked like if Dante had been writing today.How impious to assume that God would only be able to create one Universe, and have to tweak all the constants Himself!'"
      ]
     },
     "execution_count": 40,
     "metadata": {},
     "output_type": "execute_result"
    }
   ],
   "source": [
    "indexes2Sum(indexes[:5],sentences)"
   ]
  },
  {
   "cell_type": "code",
   "execution_count": 41,
   "metadata": {},
   "outputs": [
    {
     "data": {
      "text/plain": [
       "['dante',\n",
       " 'dawkins',\n",
       " 'heaven',\n",
       " 'universe',\n",
       " 'would',\n",
       " 'religious',\n",
       " 'one',\n",
       " 'wondering',\n",
       " 'could',\n",
       " 'century',\n",
       " 'science',\n",
       " 'able',\n",
       " 'fact',\n",
       " 'astronomy',\n",
       " \"'ll\",\n",
       " 'find',\n",
       " 'paradise',\n",
       " 'bang',\n",
       " 'many',\n",
       " '21st',\n",
       " 'deeply',\n",
       " 'opposite',\n",
       " 'people',\n",
       " 'imagine',\n",
       " 'get',\n",
       " 'christian',\n",
       " 'completely',\n",
       " 'unreligious',\n",
       " 'create',\n",
       " 'truth',\n",
       " 'seem',\n",
       " 'stuff',\n",
       " 'hell',\n",
       " 'thinking',\n",
       " 'moment',\n",
       " 'quite',\n",
       " 'saying',\n",
       " 'wrong',\n",
       " 'book',\n",
       " 'often',\n",
       " 'trying',\n",
       " 'course',\n",
       " 'referents',\n",
       " 'dispassionately',\n",
       " 'small',\n",
       " 'getting',\n",
       " 'impious',\n",
       " 'let',\n",
       " 'different',\n",
       " 'geocentric',\n",
       " 'might',\n",
       " 'put',\n",
       " 'god',\n",
       " 'schadenfreude',\n",
       " 'thing',\n",
       " 'end',\n",
       " 'goodreads',\n",
       " 'help',\n",
       " 'querying',\n",
       " 'part',\n",
       " 'multiverse',\n",
       " 'niels']"
      ]
     },
     "execution_count": 41,
     "metadata": {},
     "output_type": "execute_result"
    }
   ],
   "source": [
    "allowed_words"
   ]
  },
  {
   "cell_type": "markdown",
   "metadata": {},
   "source": [
    "## Matrix Factorization"
   ]
  },
  {
   "cell_type": "code",
   "execution_count": 203,
   "metadata": {},
   "outputs": [],
   "source": [
    "R_train = np.zeros(countMap.shape)\n",
    "\n",
    "# R[:] = np.nan\n",
    "\n",
    "# R\n",
    "\n",
    "for i in range(0,countMap.shape[0]):\n",
    "    for j in range(0,countMap.shape[1]):\n",
    "        R_train[i][j] = countMap.iloc[i,j]*100\n",
    "\n",
    "\n",
    "\n",
    "R_train = R_train.transpose()"
   ]
  },
  {
   "cell_type": "code",
   "execution_count": 204,
   "metadata": {},
   "outputs": [
    {
     "data": {
      "text/plain": [
       "(313, 34)"
      ]
     },
     "execution_count": 204,
     "metadata": {},
     "output_type": "execute_result"
    }
   ],
   "source": [
    "R_train.shape"
   ]
  },
  {
   "cell_type": "code",
   "execution_count": 205,
   "metadata": {},
   "outputs": [],
   "source": [
    ">>> from sklearn.decomposition import NMF\n",
    ">>> model = NMF(n_components=10, init='random', random_state=0)\n",
    ">>> W = model.fit_transform(R_train)\n",
    ">>> H = model.components_"
   ]
  },
  {
   "cell_type": "code",
   "execution_count": 206,
   "metadata": {},
   "outputs": [
    {
     "data": {
      "text/plain": [
       "(10, 34)"
      ]
     },
     "execution_count": 206,
     "metadata": {},
     "output_type": "execute_result"
    }
   ],
   "source": [
    "H.shape"
   ]
  },
  {
   "cell_type": "code",
   "execution_count": 207,
   "metadata": {},
   "outputs": [
    {
     "data": {
      "text/plain": [
       "(313, 10)"
      ]
     },
     "execution_count": 207,
     "metadata": {},
     "output_type": "execute_result"
    }
   ],
   "source": [
    "W.shape"
   ]
  },
  {
   "cell_type": "code",
   "execution_count": 256,
   "metadata": {},
   "outputs": [
    {
     "data": {
      "text/plain": [
       "array([ 10,  34,  14,  12,  36,  79,  13, 240, 272,  38, 237,  94,  95,\n",
       "       183, 179,   2,  59,   9, 247, 142])"
      ]
     },
     "execution_count": 256,
     "metadata": {},
     "output_type": "execute_result"
    }
   ],
   "source": [
    "W.sum(axis = 1).argsort()[-20:][::-1]"
   ]
  },
  {
   "cell_type": "code",
   "execution_count": 257,
   "metadata": {},
   "outputs": [
    {
     "data": {
      "text/plain": [
       "Index(['dante', ''s', 'could', 'wondering', 'would', 'heaven', 'one', 'let',\n",
       "       'light', 'n't', ''ll', 'might', 'help', 'get', 'find', 'truth',\n",
       "       'paradise', 'thinking', 'like', 'moment'],\n",
       "      dtype='object')"
      ]
     },
     "execution_count": 257,
     "metadata": {},
     "output_type": "execute_result"
    }
   ],
   "source": [
    "countMap.columns[[ 10,  34,  14,  12,  36,  79,  13, 240, 272,  38, 237,  94,  95,\n",
    "       183, 179,   2,  59,   9, 247, 142]]"
   ]
  },
  {
   "cell_type": "code",
   "execution_count": 252,
   "metadata": {},
   "outputs": [],
   "source": [
    "indexes = H.sum(axis = 0).argsort()[-15:][::-1]"
   ]
  },
  {
   "cell_type": "code",
   "execution_count": 253,
   "metadata": {},
   "outputs": [
    {
     "data": {
      "text/plain": [
       "'The opposite of a great truth is another truth.\" - Niels BohrI was thinking about Dante the other day and wondering how one could approach him from the angle of a GoodReads review.Now of course, I am aware that Dante was deeply immersed in the Christian world-view, and Dawkins is famous for being the world\\'s most outspoken atheist.Dante was a Christian to the core of his being, but he was furious with the way the Church was being run; he put several of its leaders, notably Pope Boniface VIII, in Hell.On the other side, I challenge anyone to read \"The Ancestor\\'s Tale\" to the end, and not, at least for a moment, entertain the idea that Dawkins is in actual fact a deeply religious man.One has to remember that, for Dante, Ptolomaic astronomy was state of the art stuff, and the details of the angelic hierarchy were a topic of vital importance; of course he cross-examines the hosts of the blessed to find out more.These days, I imagine he would be trying to get inside information on what happened during the Big Bang before spontaneous symmetry breaking occurred, whether or not the Higgs particle really exists, and how evolution produced human intelligence.I do wonder what he would have thought if he had been able to learn that many leading religious figures, even in the early 21st century, reject a large part of science as being somehow unreligious.It\\'s wrong to spend your life dispassionately trying to understand God\\'s Universe?I can see him getting quite angry about this, and deciding to rearrange the seating a little down in Hell.I keep thinking that there\\'s a book someone ought to write called \"Five Atheists You\\'ll Meet in Heaven\".It was necessary to create all of them, so that random processes could make sure that a very small number would end up being able to support life.'"
      ]
     },
     "execution_count": 253,
     "metadata": {},
     "output_type": "execute_result"
    }
   ],
   "source": [
    "indexes2Sum(list(indexes),sentences)"
   ]
  },
  {
   "cell_type": "markdown",
   "metadata": {},
   "source": [
    "## Textrank"
   ]
  },
  {
   "cell_type": "code",
   "execution_count": 210,
   "metadata": {},
   "outputs": [],
   "source": [
    "from gensim.summarization import summarize\n",
    "from gensim.summarization.textcleaner import clean_text_by_sentences\n",
    "\n",
    "from gensim.summarization import keywords\n"
   ]
  },
  {
   "cell_type": "code",
   "execution_count": 211,
   "metadata": {},
   "outputs": [],
   "source": [
    "# evaluate our resulrt base on the distance A= dist from original review to description, \n",
    "# distance B = dist from original review to summary"
   ]
  },
  {
   "cell_type": "code",
   "execution_count": 212,
   "metadata": {},
   "outputs": [
    {
     "data": {
      "text/plain": [
       "34"
      ]
     },
     "execution_count": 212,
     "metadata": {},
     "output_type": "execute_result"
    }
   ],
   "source": [
    "len(sentences)"
   ]
  },
  {
   "cell_type": "code",
   "execution_count": 227,
   "metadata": {},
   "outputs": [
    {
     "name": "stdout",
     "output_type": "stream",
     "text": [
      "The opposite of a great truth is another truth.\" - Niels BohrI was thinking about Dante the other day and wondering how one could approach him from the angle of a GoodReads review.\n",
      "For Dante, there didn't seem to be any opposition between religious faith and science - they were part of the same thing.\n",
      "I do wonder what he would have thought if he had been able to learn that many leading religious figures, even in the early 21st century, reject a large part of science as being somehow unreligious.\n",
      "I can see him getting quite angry about this, and deciding to rearrange the seating a little down in Hell.I keep thinking that there's a book someone ought to write called \"Five Atheists You'll Meet in Heaven\".\n",
      "Please let me know when it comes out; I'll buy a copy at once.**************************************PS I couldn't help wondering what Paradise might have looked like if Dante had been writing today.\n"
     ]
    }
   ],
   "source": [
    "print(summarize(review,ratio = 5.0/34.0))"
   ]
  },
  {
   "cell_type": "code",
   "execution_count": 214,
   "metadata": {},
   "outputs": [],
   "source": [
    "gen_sum = summarize(review,split = True)\n",
    "\n",
    "indexes = []\n",
    "for i in range(0,len(gen_sum)):\n",
    "    for j in range(0,len(sentences)):\n",
    "        if gen_sum[i] == sentences[j]:\n",
    "            indexes.append(j)\n",
    "            break"
   ]
  },
  {
   "cell_type": "code",
   "execution_count": 215,
   "metadata": {},
   "outputs": [
    {
     "data": {
      "text/plain": [
       "[1, 14, 20, 21, 23, 24]"
      ]
     },
     "execution_count": 215,
     "metadata": {},
     "output_type": "execute_result"
    }
   ],
   "source": [
    "indexes"
   ]
  },
  {
   "cell_type": "code",
   "execution_count": 216,
   "metadata": {},
   "outputs": [],
   "source": [
    "# extension:sentiment analysis"
   ]
  },
  {
   "cell_type": "code",
   "execution_count": 243,
   "metadata": {},
   "outputs": [
    {
     "name": "stdout",
     "output_type": "stream",
     "text": [
      "religious\n",
      "day\n",
      "days\n",
      "world\n",
      "truth\n",
      "wondering\n",
      "wonder\n",
      "wonderful\n",
      "background\n",
      "geocentric\n",
      "fluctuations\n",
      "moment\n",
      "different\n",
      "time\n",
      "mainstream\n",
      "theological\n",
      "write\n",
      "writing\n",
      "today\n",
      "produced human\n",
      "life dispassionately\n",
      "symmetry breaking\n",
      "dante\n",
      "ptolomaic\n",
      "notably\n",
      "completely\n",
      "richard\n",
      "boniface\n"
     ]
    }
   ],
   "source": [
    "print(keywords(review))"
   ]
  },
  {
   "cell_type": "code",
   "execution_count": 115,
   "metadata": {},
   "outputs": [],
   "source": [
    "# a various of language"
   ]
  },
  {
   "cell_type": "code",
   "execution_count": 130,
   "metadata": {},
   "outputs": [
    {
     "data": {
      "text/plain": [
       "(47, 388)"
      ]
     },
     "execution_count": 130,
     "metadata": {},
     "output_type": "execute_result"
    }
   ],
   "source": [
    "countMap.shape"
   ]
  },
  {
   "cell_type": "markdown",
   "metadata": {},
   "source": [
    "## PyTextrank (Improved Textrank)"
   ]
  },
  {
   "cell_type": "markdown",
   "metadata": {},
   "source": [
    "### Stage 1:\n",
    "Perform statistical parsing/tagging on a document in JSON format\n",
    "\n",
    "INPUTS: JSON doc for the text input  \n",
    "OUTPUT: JSON format `ParsedGraf(id, sha1, graf)`"
   ]
  },
  {
   "cell_type": "code",
   "execution_count": 42,
   "metadata": {},
   "outputs": [
    {
     "name": "stdout",
     "output_type": "stream",
     "text": [
      "[\"0517548233\", \"09ff6e0e60bb7c13fdfbaf0f1b682dc338d4fdc7\", [[0, \"\\\"\", \"\\\"\", \".\", 0, 0], [0, \"You\", \"you\", \"PRP\", 0, 1], [0, \"can\", \"can\", \"MD\", 0, 2], [1, \"recognize\", \"recognize\", \"VB\", 1, 3], [0, \"a\", \"a\", \"DT\", 0, 4], [2, \"small\", \"small\", \"JJ\", 1, 5], [3, \"truth\", \"truth\", \"NN\", 1, 6], [0, \"because\", \"because\", \"IN\", 0, 7], [0, \"its\", \"its\", \"PRP$\", 0, 8], [4, \"opposite\", \"opposite\", \"NN\", 1, 9], [5, \"is\", \"be\", \"VBZ\", 1, 10], [0, \"a\", \"a\", \"DT\", 0, 11], [6, \"falsehood\", \"falsehood\", \"NN\", 1, 12], [0, \".\", \".\", \".\", 0, 13]]]\n",
      "[\"0517548233\", \"f3bd7686de5827080dba17e436e995467150ea3a\", [[0, \"The\", \"the\", \"DT\", 0, 14], [4, \"opposite\", \"opposite\", \"NN\", 1, 15], [0, \"of\", \"of\", \"IN\", 0, 16], [0, \"a\", \"a\", \"DT\", 0, 17], [7, \"great\", \"great\", \"JJ\", 1, 18], [3, \"truth\", \"truth\", \"NN\", 1, 19], [5, \"is\", \"be\", \"VBZ\", 1, 20], [0, \"another\", \"another\", \"DT\", 0, 21], [3, \"truth\", \"truth\", \"NN\", 1, 22], [0, \".\", \".\", \".\", 0, 23], [0, \"\\\"\", \"\\\"\", \".\", 0, 24]]]\n",
      "[\"0517548233\", \"55da43e63a65b72e9eea619e4d934434b0273b10\", [[0, \"-\", \"-\", \".\", 0, 25], [8, \"Niels\", \"niels\", \"NNP\", 1, 26], [9, \"BohrI\", \"bohri\", \"NNP\", 1, 27], [5, \"was\", \"be\", \"VBD\", 1, 28], [10, \"thinking\", \"think\", \"VBG\", 1, 29], [0, \"about\", \"about\", \"IN\", 0, 30], [11, \"Dante\", \"dante\", \"NNP\", 1, 31], [0, \"the\", \"the\", \"DT\", 0, 32], [12, \"other\", \"other\", \"JJ\", 1, 33], [13, \"day\", \"day\", \"NN\", 1, 34], [0, \"and\", \"and\", \"CC\", 0, 35], [14, \"wondering\", \"wonder\", \"VBG\", 1, 36], [0, \"how\", \"how\", \"WRB\", 0, 37], [0, \"one\", \"one\", \"PRP\", 0, 38], [0, \"could\", \"could\", \"MD\", 0, 39], [15, \"approach\", \"approach\", \"VB\", 1, 40], [0, \"him\", \"him\", \"PRP\", 0, 41], [0, \"from\", \"from\", \"IN\", 0, 42], [0, \"the\", \"the\", \"DT\", 0, 43], [16, \"angle\", \"angle\", \"NN\", 1, 44], [0, \"of\", \"of\", \"IN\", 0, 45], [0, \"a\", \"a\", \"DT\", 0, 46], [17, \"GoodReads\", \"goodreads\", \"NNP\", 1, 47], [18, \"review\", \"review\", \"NN\", 1, 48], [0, \".\", \".\", \".\", 0, 49]]]\n",
      "[\"0517548233\", \"efb3513ef7831dc5963d5542b4ef47a07ddd9cef\", [[0, \"One\", \"one\", \"CD\", 0, 50], [0, \"of\", \"of\", \"IN\", 0, 51], [0, \"the\", \"the\", \"DT\", 0, 52], [19, \"obvious\", \"obvious\", \"JJ\", 1, 53], [20, \"problems\", \"problem\", \"NNS\", 1, 54], [5, \"is\", \"be\", \"VBZ\", 1, 55], [0, \"that\", \"that\", \"IN\", 0, 56], [0, \"he\", \"he\", \"PRP\", 0, 57], [21, \"lived\", \"live\", \"VBD\", 1, 58], [0, \"a\", \"a\", \"DT\", 0, 59], [22, \"long\", \"long\", \"JJ\", 1, 60], [23, \"time\", \"time\", \"NN\", 1, 61], [0, \"ago\", \"ago\", \"RB\", 0, 62], [0, \",\", \",\", \".\", 0, 63], [0, \"and\", \"and\", \"CC\", 0, 64], [24, \"many\", \"many\", \"JJ\", 1, 65], [0, \"of\", \"of\", \"IN\", 0, 66], [0, \"the\", \"the\", \"DT\", 0, 67], [25, \"cultural\", \"cultural\", \"JJ\", 1, 68], [26, \"referents\", \"referent\", \"NNS\", 1, 69], [27, \"have\", \"have\", \"VBP\", 1, 70], [28, \"changed\", \"change\", \"VBN\", 1, 71], [0, \".\", \".\", \".\", 0, 72]]]\n",
      "[\"0517548233\", \"c38e5870e7c3e71bdcd9e79c9cd22a6686475e2f\", [[0, \"You\", \"you\", \"PRP\", 0, 73], [5, \"'re\", \"be\", \"VBP\", 1, 74], [0, \"constantly\", \"constantly\", \"RB\", 0, 75], [27, \"having\", \"have\", \"VBG\", 1, 76], [0, \"to\", \"to\", \"TO\", 0, 77], [10, \"think\", \"think\", \"VB\", 1, 78], [0, \"\\\"\", \"\\\"\", \".\", 0, 79], [0, \"Well\", \"well\", \"UH\", 0, 80], [0, \",\", \",\", \".\", 0, 81], [0, \"nowadays\", \"nowadays\", \"RB\", 0, 82], [0, \"what\", \"what\", \"WP\", 0, 83], [0, \"he\", \"he\", \"PRP\", 0, 84], [5, \"'s\", \"be\", \"VBZ\", 1, 85], [29, \"saying\", \"say\", \"VBG\", 1, 86], [0, \"would\", \"would\", \"MD\", 0, 87], [30, \"correspond\", \"correspond\", \"VB\", 1, 88], [0, \"to\", \"to\", \"IN\", 0, 89], [0, \"THAT\", \"that\", \"DT\", 0, 90], [0, \"\\\"\", \"\\\"\", \".\", 0, 91], [0, \".\", \".\", \".\", 0, 92]]]\n",
      "[\"0517548233\", \"434c0009abdb3affbec307a866947445bd3c1150\", [[0, \"It\", \"it\", \"PRP\", 0, 93], [5, \"is\", \"be\", \"VBZ\", 1, 94], [0, \"n't\", \"n't\", \"RB\", 0, 95], [0, \"so\", \"so\", \"RB\", 0, 96], [31, \"bad\", \"bad\", \"JJ\", 1, 97], [0, \"in\", \"in\", \"IN\", 0, 98], [32, \"Hell\", \"hell\", \"NNP\", 1, 99], [0, \",\", \",\", \".\", 0, 100], [0, \"when\", \"when\", \"WRB\", 0, 101], [0, \"there\", \"there\", \"EX\", 0, 102], [5, \"is\", \"be\", \"VBZ\", 1, 103], [33, \"plenty\", \"plenty\", \"NN\", 1, 104], [0, \"of\", \"of\", \"IN\", 0, 105], [34, \"entertainment\", \"entertainment\", \"NN\", 1, 106], [0, \"to\", \"to\", \"TO\", 0, 107], [5, \"be\", \"be\", \"VB\", 1, 108], [27, \"had\", \"have\", \"VBN\", 1, 109], [0, \"in\", \"in\", \"IN\", 0, 110], [35, \"seeing\", \"see\", \"VBG\", 1, 111], [0, \"how\", \"how\", \"WRB\", 0, 112], [0, \"the\", \"the\", \"DT\", 0, 113], [36, \"different\", \"different\", \"JJ\", 1, 114], [37, \"sins\", \"sin\", \"NNS\", 1, 115], [5, \"are\", \"be\", \"VBP\", 1, 116], [38, \"punished\", \"punish\", \"VBN\", 1, 117], [0, \",\", \",\", \".\", 0, 118], [0, \"and\", \"and\", \"CC\", 0, 119], [39, \"indulging\", \"indulge\", \"VBG\", 1, 120], [0, \"your\", \"your\", \"PRP$\", 0, 121], [40, \"schadenfreude\", \"schadenfreude\", \"NN\", 1, 122], [0, \".\", \".\", \".\", 0, 123]]]\n",
      "[\"0517548233\", \"b3151a36381d49962f8110668aab1ad073ed0054\", [[0, \"Then\", \"then\", \"RB\", 0, 124], [41, \"Purgatory\", \"purgatory\", \"NNP\", 1, 125], [42, \"tells\", \"tell\", \"VBZ\", 1, 126], [0, \"a\", \"a\", \"DT\", 0, 127], [43, \"moral\", \"moral\", \"JJ\", 1, 128], [44, \"story\", \"story\", \"NN\", 1, 129], [0, \"that\", \"that\", \"WDT\", 0, 130], [5, \"'s\", \"be\", \"VBZ\", 1, 131], [0, \"more\", \"more\", \"RBR\", 0, 132], [0, \"or\", \"or\", \"CC\", 0, 133], [45, \"less\", \"less\", \"JJR\", 1, 134], [46, \"timeless\", \"timeless\", \"NN\", 1, 135], [0, \"if\", \"if\", \"IN\", 0, 136], [0, \"you\", \"you\", \"PRP\", 0, 137], [47, \"go\", \"go\", \"VBP\", 1, 138], [0, \"for\", \"for\", \"IN\", 0, 139], [0, \"that\", \"that\", \"DT\", 0, 140], [48, \"sort\", \"sort\", \"NN\", 1, 141], [0, \"of\", \"of\", \"IN\", 0, 142], [49, \"thing\", \"thing\", \"NN\", 1, 143], [0, \",\", \",\", \".\", 0, 144], [0, \"but\", \"but\", \"CC\", 0, 145], [0, \"once\", \"once\", \"RB\", 0, 146], [0, \"you\", \"you\", \"PRP\", 0, 147], [50, \"arrive\", \"arrive\", \"VBP\", 1, 148], [0, \"in\", \"in\", \"IN\", 0, 149], [51, \"Paradise\", \"paradise\", \"NNP\", 1, 150], [0, \"it\", \"it\", \"PRP\", 0, 151], [52, \"starts\", \"start\", \"VBZ\", 1, 152], [53, \"getting\", \"get\", \"VBG\", 1, 153], [0, \"seriously\", \"seriously\", \"RB\", 0, 154], [54, \"tricky\", \"tricky\", \"JJ\", 1, 155], [0, \".\", \".\", \".\", 0, 156]]]\n",
      "[\"0517548233\", \"1951b6b8bb453a23e51fc53fb89dd63ae67e1372\", [[0, \"A\", \"a\", \"DT\", 0, 157], [55, \"lot\", \"lot\", \"NN\", 1, 158], [0, \"of\", \"of\", \"IN\", 0, 159], [0, \"the\", \"the\", \"DT\", 0, 160], [56, \"stuff\", \"stuff\", \"NN\", 1, 161], [0, \"at\", \"at\", \"IN\", 0, 162], [57, \"first\", \"first\", \"JJ\", 1, 163], [58, \"sight\", \"sight\", \"NN\", 1, 164], [0, \"just\", \"just\", \"RB\", 0, 165], [59, \"seems\", \"seem\", \"VBZ\", 1, 166], [60, \"irrelevant\", \"irrelevant\", \"JJ\", 1, 167], [0, \"to\", \"to\", \"IN\", 0, 168], [0, \"the\", \"the\", \"DT\", 0, 169], [61, \"21st\", \"21st\", \"JJ\", 1, 170], [62, \"century\", \"century\", \"NN\", 1, 171], [63, \"world\", \"world\", \"NN\", 1, 172], [0, \"...\", \"...\", \".\", 0, 173]]]\n",
      "[\"0517548233\", \"33fb0ace54611575db69a069a867ad1182a51334\", [[0, \"all\", \"all\", \"PDT\", 0, 174], [0, \"these\", \"these\", \"DT\", 0, 175], [64, \"explanations\", \"explanation\", \"NNS\", 1, 176], [0, \"about\", \"about\", \"IN\", 0, 177], [0, \"the\", \"the\", \"DT\", 0, 178], [65, \"mechanics\", \"mechanic\", \"NNS\", 1, 179], [0, \"of\", \"of\", \"IN\", 0, 180], [66, \"Ptolomaic\", \"ptolomaic\", \"NNP\", 1, 181], [67, \"astronomy\", \"astronomy\", \"NN\", 1, 182], [0, \",\", \",\", \".\", 0, 183], [0, \"and\", \"and\", \"CC\", 0, 184], [11, \"Dante\", \"dante\", \"NNP\", 1, 185], [68, \"querying\", \"query\", \"VBG\", 1, 186], [0, \"the\", \"the\", \"DT\", 0, 187], [69, \"inhabitants\", \"inhabitant\", \"NNS\", 1, 188], [0, \"of\", \"of\", \"IN\", 0, 189], [70, \"Heaven\", \"heaven\", \"NNP\", 1, 190], [0, \"on\", \"on\", \"IN\", 0, 191], [71, \"obscure\", \"obscure\", \"JJ\", 1, 192], [72, \"theological\", \"theological\", \"JJ\", 1, 193], [73, \"points\", \"point\", \"NNS\", 1, 194], [0, \".\", \".\", \".\", 0, 195]]]\n",
      "[\"0517548233\", \"ad4482805d3dc422cbb2058fcc845def3976f7ba\", [[0, \"It\", \"it\", \"PRP\", 0, 196], [5, \"'s\", \"be\", \"VBZ\", 1, 197], [74, \"notorious\", \"notorious\", \"JJ\", 1, 198], [0, \"that\", \"that\", \"IN\", 0, 199], [75, \"readers\", \"reader\", \"NNS\", 1, 200], [0, \"most\", \"most\", \"RBS\", 0, 201], [0, \"often\", \"often\", \"RB\", 0, 202], [76, \"give\", \"give\", \"VBP\", 1, 203], [0, \"up\", \"up\", \"RP\", 0, 204], [0, \"somewhere\", \"somewhere\", \"RB\", 0, 205], [0, \"in\", \"in\", \"IN\", 0, 206], [0, \"the\", \"the\", \"DT\", 0, 207], [77, \"third\", \"third\", \"JJ\", 1, 208], [78, \"book\", \"book\", \"NN\", 1, 209], [0, \".\", \".\", \".\", 0, 210]]]\n",
      "[\"0517548233\", \"da30f0836b51213f98b4e0e5f916d74ba3eea655\", [[0, \"I\", \"i\", \"PRP\", 0, 211], [52, \"started\", \"start\", \"VBD\", 1, 212], [14, \"wondering\", \"wonder\", \"VBG\", 1, 213], [0, \"if\", \"if\", \"IN\", 0, 214], [0, \"there\", \"there\", \"EX\", 0, 215], [5, \"was\", \"be\", \"VBD\", 1, 216], [0, \"any\", \"any\", \"DT\", 0, 217], [79, \"modern-day\", \"modern-day\", \"JJ\", 1, 218], [80, \"author\", \"author\", \"NN\", 1, 219], [0, \"one\", \"one\", \"PRP\", 0, 220], [0, \"could\", \"could\", \"MD\", 0, 221], [81, \"identify\", \"identify\", \"VB\", 1, 222], [0, \"with\", \"with\", \"IN\", 0, 223], [11, \"Dante\", \"dante\", \"NNP\", 1, 224], [0, \",\", \",\", \".\", 0, 225], [0, \"and\", \"and\", \"CC\", 0, 226], [0, \"if\", \"if\", \"IN\", 0, 227], [0, \"that\", \"that\", \"DT\", 0, 228], [0, \"might\", \"might\", \"MD\", 0, 229], [82, \"help\", \"help\", \"VB\", 1, 230], [0, \"us\", \"us\", \"PRP\", 0, 231], [83, \"connect\", \"connect\", \"VB\", 1, 232], [0, \"to\", \"to\", \"IN\", 0, 233], [0, \"his\", \"his\", \"PRP$\", 0, 234], [84, \"concerns\", \"concern\", \"NNS\", 1, 235], [0, \".\", \".\", \".\", 0, 236]]]\n",
      "[\"0517548233\", \"ee8f4c18908b9a1d880cd79992ce8f327c403304\", [[0, \"And\", \"and\", \"CC\", 0, 237], [0, \"in\", \"in\", \"IN\", 0, 238], [85, \"fact\", \"fact\", \"NN\", 1, 239], [0, \",\", \",\", \".\", 0, 240], [0, \"I\", \"i\", \"PRP\", 0, 241], [86, \"do\", \"do\", \"VBP\", 1, 242], [27, \"have\", \"have\", \"VB\", 1, 243], [0, \"a\", \"a\", \"DT\", 0, 244], [87, \"suggestion\", \"suggestion\", \"NN\", 1, 245], [0, \"that\", \"that\", \"IN\", 0, 246], [0, \"some\", \"some\", \"DT\", 0, 247], [88, \"people\", \"people\", \"NNS\", 1, 248], [0, \"will\", \"will\", \"MD\", 0, 249], [0, \"no\", \"no\", \"RB\", 0, 250], [0, \"doubt\", \"doubt\", \"RB\", 0, 251], [89, \"condemn\", \"condemn\", \"VB\", 1, 252], [0, \"out\", \"out\", \"IN\", 0, 253], [0, \"of\", \"of\", \"IN\", 0, 254], [90, \"hand\", \"hand\", \"NN\", 1, 255], [0, \"as\", \"as\", \"RB\", 0, 256], [0, \"completely\", \"completely\", \"RB\", 0, 257], [91, \"heretical\", \"heretical\", \"JJ\", 1, 258], [0, \":\", \":\", \".\", 0, 259], [92, \"Richard\", \"richard\", \"NNP\", 1, 260], [93, \"Dawkins\", \"dawkins\", \"NNP\", 1, 261], [0, \".\", \".\", \".\", 0, 262]]]\n",
      "[\"0517548233\", \"2ea4bb083979f32ac4ff2ce673bf9809561a5417\", [[0, \"Now\", \"now\", \"RB\", 0, 263], [0, \"of\", \"of\", \"IN\", 0, 264], [94, \"course\", \"course\", \"NN\", 1, 265], [0, \",\", \",\", \".\", 0, 266], [0, \"I\", \"i\", \"PRP\", 0, 267], [5, \"am\", \"be\", \"VBP\", 1, 268], [95, \"aware\", \"aware\", \"JJ\", 1, 269], [0, \"that\", \"that\", \"IN\", 0, 270], [11, \"Dante\", \"dante\", \"NNP\", 1, 271], [5, \"was\", \"be\", \"VBD\", 1, 272], [0, \"deeply\", \"deeply\", \"RB\", 0, 273], [96, \"immersed\", \"immerse\", \"VBN\", 1, 274], [0, \"in\", \"in\", \"IN\", 0, 275], [0, \"the\", \"the\", \"DT\", 0, 276], [97, \"Christian\", \"christian\", \"JJ\", 1, 277], [98, \"world-view\", \"world-view\", \"NN\", 1, 278], [0, \",\", \",\", \".\", 0, 279], [0, \"and\", \"and\", \"CC\", 0, 280], [93, \"Dawkins\", \"dawkins\", \"NNP\", 1, 281], [5, \"is\", \"be\", \"VBZ\", 1, 282], [99, \"famous\", \"famous\", \"JJ\", 1, 283], [0, \"for\", \"for\", \"IN\", 0, 284], [5, \"being\", \"be\", \"VBG\", 1, 285], [0, \"the\", \"the\", \"DT\", 0, 286], [63, \"world\", \"world\", \"NN\", 1, 287], [0, \"'s\", \"'s\", \"POS\", 0, 288], [100, \"most\", \"most\", \"JJS\", 1, 289], [101, \"outspoken\", \"outspoken\", \"JJ\", 1, 290], [102, \"atheist\", \"atheist\", \"NN\", 1, 291], [0, \".\", \".\", \".\", 0, 292]]]\n",
      "[\"0517548233\", \"b6eadf539c9f6b1f0348d1a575f45275d3588691\", [[0, \"But\", \"but\", \"CC\", 0, 293], [0, \"it\", \"it\", \"PRP\", 0, 294], [5, \"'s\", \"be\", \"VBZ\", 1, 295], [0, \"not\", \"not\", \"RB\", 0, 296], [0, \"quite\", \"quite\", \"RB\", 0, 297], [0, \"as\", \"as\", \"RB\", 0, 298], [103, \"crazy\", \"crazy\", \"JJ\", 1, 299], [0, \"as\", \"as\", \"IN\", 0, 300], [0, \"it\", \"it\", \"PRP\", 0, 301], [0, \"first\", \"first\", \"RB\", 0, 302], [0, \"may\", \"may\", \"MD\", 0, 303], [59, \"seem\", \"seem\", \"VB\", 1, 304], [0, \".\", \".\", \".\", 0, 305]]]\n",
      "[\"0517548233\", \"c780fe48168880f9c04b0259d2384fe8ca9eded9\", [[11, \"Dante\", \"dante\", \"NNP\", 1, 306], [5, \"was\", \"be\", \"VBD\", 1, 307], [0, \"a\", \"a\", \"DT\", 0, 308], [97, \"Christian\", \"christian\", \"NNP\", 1, 309], [0, \"to\", \"to\", \"IN\", 0, 310], [0, \"the\", \"the\", \"DT\", 0, 311], [104, \"core\", \"core\", \"NN\", 1, 312], [0, \"of\", \"of\", \"IN\", 0, 313], [0, \"his\", \"his\", \"PRP$\", 0, 314], [105, \"being\", \"being\", \"NN\", 1, 315], [0, \",\", \",\", \".\", 0, 316], [0, \"but\", \"but\", \"CC\", 0, 317], [0, \"he\", \"he\", \"PRP\", 0, 318], [5, \"was\", \"be\", \"VBD\", 1, 319], [106, \"furious\", \"furious\", \"JJ\", 1, 320], [0, \"with\", \"with\", \"IN\", 0, 321], [0, \"the\", \"the\", \"DT\", 0, 322], [107, \"way\", \"way\", \"NN\", 1, 323], [0, \"the\", \"the\", \"DT\", 0, 324], [108, \"Church\", \"church\", \"NNP\", 1, 325], [5, \"was\", \"be\", \"VBD\", 1, 326], [5, \"being\", \"be\", \"VBG\", 1, 327], [109, \"run\", \"run\", \"VBN\", 1, 328], [0, \";\", \";\", \".\", 0, 329], [0, \"he\", \"he\", \"PRP\", 0, 330], [110, \"put\", \"put\", \"VBD\", 1, 331], [111, \"several\", \"several\", \"JJ\", 1, 332], [0, \"of\", \"of\", \"IN\", 0, 333], [0, \"its\", \"its\", \"PRP$\", 0, 334], [112, \"leaders\", \"leader\", \"NNS\", 1, 335], [0, \",\", \",\", \".\", 0, 336], [0, \"notably\", \"notably\", \"RB\", 0, 337], [113, \"Pope\", \"pope\", \"NNP\", 1, 338], [114, \"Boniface\", \"boniface\", \"NNP\", 1, 339], [115, \"VIII\", \"viii\", \"NNP\", 1, 340], [0, \",\", \",\", \".\", 0, 341], [0, \"in\", \"in\", \"IN\", 0, 342], [32, \"Hell\", \"hell\", \"NNP\", 1, 343], [0, \".\", \".\", \".\", 0, 344]]]\n",
      "[\"0517548233\", \"2c8130bb2241f5841f69759d7e5431db229552cf\", [[0, \"On\", \"on\", \"IN\", 0, 345], [0, \"the\", \"the\", \"DT\", 0, 346], [12, \"other\", \"other\", \"JJ\", 1, 347], [116, \"side\", \"side\", \"NN\", 1, 348], [0, \",\", \",\", \".\", 0, 349], [0, \"I\", \"i\", \"PRP\", 0, 350], [117, \"challenge\", \"challenge\", \"VBP\", 1, 351], [118, \"anyone\", \"anyone\", \"NN\", 1, 352], [0, \"to\", \"to\", \"TO\", 0, 353], [119, \"read\", \"read\", \"VB\", 1, 354], [0, \"\\\"\", \"\\\"\", \".\", 0, 355], [0, \"The\", \"the\", \"DT\", 0, 356], [120, \"Ancestor\", \"ancestor\", \"NNP\", 1, 357], [0, \"'s\", \"'s\", \"POS\", 0, 358], [121, \"Tale\", \"tale\", \"NNP\", 1, 359], [0, \"\\\"\", \"\\\"\", \".\", 0, 360], [0, \"to\", \"to\", \"IN\", 0, 361], [0, \"the\", \"the\", \"DT\", 0, 362], [122, \"end\", \"end\", \"NN\", 1, 363], [0, \",\", \",\", \".\", 0, 364], [0, \"and\", \"and\", \"CC\", 0, 365], [0, \"not\", \"not\", \"RB\", 0, 366], [0, \",\", \",\", \".\", 0, 367], [0, \"at\", \"at\", \"IN\", 0, 368], [123, \"least\", \"least\", \"JJS\", 1, 369], [0, \"for\", \"for\", \"IN\", 0, 370], [0, \"a\", \"a\", \"DT\", 0, 371], [124, \"moment\", \"moment\", \"NN\", 1, 372], [0, \",\", \",\", \".\", 0, 373], [125, \"entertain\", \"entertain\", \"VB\", 1, 374], [0, \"the\", \"the\", \"DT\", 0, 375], [126, \"idea\", \"idea\", \"NN\", 1, 376], [0, \"that\", \"that\", \"IN\", 0, 377], [93, \"Dawkins\", \"dawkins\", \"NNP\", 1, 378], [5, \"is\", \"be\", \"VBZ\", 1, 379], [0, \"in\", \"in\", \"IN\", 0, 380], [127, \"actual\", \"actual\", \"JJ\", 1, 381], [85, \"fact\", \"fact\", \"NN\", 1, 382], [0, \"a\", \"a\", \"DT\", 0, 383], [0, \"deeply\", \"deeply\", \"RB\", 0, 384], [128, \"religious\", \"religious\", \"JJ\", 1, 385], [129, \"man\", \"man\", \"NN\", 1, 386], [0, \".\", \".\", \".\", 0, 387]]]\n",
      "[\"0517548233\", \"a9b9602935f063ede500114766d7fb477ea17bed\", [[0, \"He\", \"he\", \"PRP\", 0, 388], [130, \"admits\", \"admit\", \"VBZ\", 1, 389], [0, \"as\", \"as\", \"IN\", 0, 390], [131, \"much\", \"much\", \"JJ\", 1, 391], [0, \"himself\", \"himself\", \"PRP\", 0, 392], [0, \":\", \":\", \".\", 0, 393], [0, \"as\", \"as\", \"IN\", 0, 394], [0, \"he\", \"he\", \"PRP\", 0, 395], [110, \"puts\", \"put\", \"VBZ\", 1, 396], [0, \"it\", \"it\", \"PRP\", 0, 397], [0, \",\", \",\", \".\", 0, 398], [0, \"it\", \"it\", \"PRP\", 0, 399], [5, \"'s\", \"be\", \"VBZ\", 1, 400], [0, \"often\", \"often\", \"RB\", 0, 401], [0, \"not\", \"not\", \"RB\", 0, 402], [0, \"so\", \"so\", \"RB\", 0, 403], [131, \"much\", \"much\", \"JJ\", 1, 404], [0, \"that\", \"that\", \"IN\", 0, 405], [0, \"he\", \"he\", \"PRP\", 0, 406], [132, \"disagrees\", \"disagree\", \"VBZ\", 1, 407], [0, \"with\", \"with\", \"IN\", 0, 408], [0, \"conventionally\", \"conventionally\", \"RB\", 0, 409], [128, \"religious\", \"religious\", \"JJ\", 1, 410], [88, \"people\", \"people\", \"NNS\", 1, 411], [0, \",\", \",\", \".\", 0, 412], [133, \"more\", \"more\", \"JJR\", 1, 413], [0, \"that\", \"that\", \"IN\", 0, 414], [0, \"\\\"\", \"\\\"\", \".\", 0, 415], [0, \"they\", \"they\", \"PRP\", 0, 416], [5, \"are\", \"be\", \"VBP\", 1, 417], [29, \"saying\", \"say\", \"VBG\", 1, 418], [0, \"it\", \"it\", \"PRP\", 0, 419], [0, \"wrong\", \"wrong\", \"RB\", 0, 420], [0, \"\\\"\", \"\\\"\", \".\", 0, 421], [0, \".\", \".\", \".\", 0, 422]]]\n",
      "[\"0517548233\", \"326ab8607de5640e556ee5338a45d54c43ab5603\", [[0, \"Amen\", \"amen\", \"UH\", 0, 423], [0, \"to\", \"to\", \"IN\", 0, 424], [0, \"that\", \"that\", \"DT\", 0, 425], [0, \".\", \".\", \".\", 0, 426]]]\n",
      "[\"0517548233\", \"45e26de807335466ae8f89a2d7369ca2c3fe6eff\", [[0, \"As\", \"as\", \"IN\", 0, 427], [134, \"noted\", \"note\", \"VBN\", 1, 428], [0, \",\", \",\", \".\", 0, 429], [0, \"both\", \"both\", \"CC\", 0, 430], [11, \"Dante\", \"dante\", \"NNP\", 1, 431], [0, \"and\", \"and\", \"CC\", 0, 432], [93, \"Dawkins\", \"dawkins\", \"NNP\", 1, 433], [5, \"are\", \"be\", \"VBP\", 1, 434], [0, \"extremely\", \"extremely\", \"RB\", 0, 435], [135, \"unhappy\", \"unhappy\", \"JJ\", 1, 436], [0, \"with\", \"with\", \"IN\", 0, 437], [0, \"the\", \"the\", \"DT\", 0, 438], [107, \"way\", \"way\", \"NN\", 1, 439], [136, \"mainstream\", \"mainstream\", \"JJ\", 1, 440], [137, \"religion\", \"religion\", \"NN\", 1, 441], [5, \"is\", \"be\", \"VBZ\", 1, 442], [5, \"being\", \"be\", \"VBG\", 1, 443], [138, \"organized\", \"organize\", \"VBN\", 1, 444], [0, \".\", \".\", \".\", 0, 445]]]\n",
      "[\"0517548233\", \"d617d1457ff110063e3b8a355245bf357b5e448e\", [[0, \"The\", \"the\", \"DT\", 0, 446], [12, \"other\", \"other\", \"JJ\", 1, 447], [139, \"characteristic\", \"characteristic\", \"NN\", 1, 448], [0, \"that\", \"that\", \"WDT\", 0, 449], [140, \"unites\", \"unite\", \"VBZ\", 1, 450], [0, \"them\", \"them\", \"PRP\", 0, 451], [0, \"for\", \"for\", \"IN\", 0, 452], [0, \"me\", \"me\", \"PRP\", 0, 453], [5, \"is\", \"be\", \"VBZ\", 1, 454], [0, \"this\", \"this\", \"DT\", 0, 455], [141, \"passionate\", \"passionate\", \"JJ\", 1, 456], [142, \"love\", \"love\", \"NN\", 1, 457], [0, \"for\", \"for\", \"IN\", 0, 458], [143, \"science\", \"science\", \"NN\", 1, 459], [0, \".\", \".\", \".\", 0, 460]]]\n",
      "[\"0517548233\", \"6988a8f1012da03efc3e1b7ae2428a946e0908c2\", [[0, \"One\", \"one\", \"PRP\", 0, 461], [27, \"has\", \"have\", \"VBZ\", 1, 462], [0, \"to\", \"to\", \"TO\", 0, 463], [144, \"remember\", \"remember\", \"VB\", 1, 464], [0, \"that\", \"that\", \"IN\", 0, 465], [0, \",\", \",\", \".\", 0, 466], [0, \"for\", \"for\", \"IN\", 0, 467], [11, \"Dante\", \"dante\", \"NNP\", 1, 468], [0, \",\", \",\", \".\", 0, 469], [66, \"Ptolomaic\", \"ptolomaic\", \"NNP\", 1, 470], [67, \"astronomy\", \"astronomy\", \"NN\", 1, 471], [5, \"was\", \"be\", \"VBD\", 1, 472], [145, \"state\", \"state\", \"NN\", 1, 473], [0, \"of\", \"of\", \"IN\", 0, 474], [0, \"the\", \"the\", \"DT\", 0, 475], [146, \"art\", \"art\", \"NN\", 1, 476], [56, \"stuff\", \"stuff\", \"NN\", 1, 477], [0, \",\", \",\", \".\", 0, 478], [0, \"and\", \"and\", \"CC\", 0, 479], [0, \"the\", \"the\", \"DT\", 0, 480], [147, \"details\", \"detail\", \"NNS\", 1, 481], [0, \"of\", \"of\", \"IN\", 0, 482], [0, \"the\", \"the\", \"DT\", 0, 483], [148, \"angelic\", \"angelic\", \"JJ\", 1, 484], [149, \"hierarchy\", \"hierarchy\", \"NN\", 1, 485], [5, \"were\", \"be\", \"VBD\", 1, 486], [0, \"a\", \"a\", \"DT\", 0, 487], [150, \"topic\", \"topic\", \"NN\", 1, 488], [0, \"of\", \"of\", \"IN\", 0, 489], [151, \"vital\", \"vital\", \"JJ\", 1, 490], [152, \"importance\", \"importance\", \"NN\", 1, 491], [0, \";\", \";\", \".\", 0, 492], [0, \"of\", \"of\", \"IN\", 0, 493], [94, \"course\", \"course\", \"NN\", 1, 494], [0, \"he\", \"he\", \"PRP\", 0, 495], [153, \"cross\", \"cross\", \"NN\", 1, 496], [0, \"-\", \"-\", \".\", 0, 497], [154, \"examines\", \"examine\", \"VBZ\", 1, 498], [0, \"the\", \"the\", \"DT\", 0, 499], [155, \"hosts\", \"host\", \"NNS\", 1, 500], [0, \"of\", \"of\", \"IN\", 0, 501], [0, \"the\", \"the\", \"DT\", 0, 502], [156, \"blessed\", \"blessed\", \"JJ\", 1, 503], [0, \"to\", \"to\", \"TO\", 0, 504], [157, \"find\", \"find\", \"VB\", 1, 505], [0, \"out\", \"out\", \"RP\", 0, 506], [133, \"more\", \"more\", \"JJR\", 1, 507], [0, \".\", \".\", \".\", 0, 508]]]\n",
      "[\"0517548233\", \"1210151b1b71283d8045dd006947efc4ac2f23be\", [[0, \"These\", \"these\", \"DT\", 0, 509], [13, \"days\", \"day\", \"NNS\", 1, 510], [0, \",\", \",\", \".\", 0, 511], [0, \"I\", \"i\", \"PRP\", 0, 512], [158, \"imagine\", \"imagine\", \"VBP\", 1, 513], [0, \"he\", \"he\", \"PRP\", 0, 514], [0, \"would\", \"would\", \"MD\", 0, 515], [5, \"be\", \"be\", \"VB\", 1, 516], [159, \"trying\", \"try\", \"VBG\", 1, 517], [0, \"to\", \"to\", \"TO\", 0, 518], [53, \"get\", \"get\", \"VB\", 1, 519], [160, \"inside\", \"inside\", \"JJ\", 1, 520], [161, \"information\", \"information\", \"NN\", 1, 521], [0, \"on\", \"on\", \"IN\", 0, 522], [0, \"what\", \"what\", \"WP\", 0, 523], [162, \"happened\", \"happen\", \"VBD\", 1, 524], [0, \"during\", \"during\", \"IN\", 0, 525], [0, \"the\", \"the\", \"DT\", 0, 526], [163, \"Big\", \"big\", \"NNP\", 1, 527], [164, \"Bang\", \"bang\", \"NNP\", 1, 528], [0, \"before\", \"before\", \"IN\", 0, 529], [165, \"spontaneous\", \"spontaneous\", \"JJ\", 1, 530], [166, \"symmetry\", \"symmetry\", \"NN\", 1, 531], [167, \"breaking\", \"breaking\", \"NN\", 1, 532], [168, \"occurred\", \"occur\", \"VBD\", 1, 533], [0, \",\", \",\", \".\", 0, 534], [0, \"whether\", \"whether\", \"IN\", 0, 535], [0, \"or\", \"or\", \"CC\", 0, 536], [0, \"not\", \"not\", \"RB\", 0, 537], [0, \"the\", \"the\", \"DT\", 0, 538], [169, \"Higgs\", \"higgs\", \"NNP\", 1, 539], [170, \"particle\", \"particle\", \"NN\", 1, 540], [0, \"really\", \"really\", \"RB\", 0, 541], [171, \"exists\", \"exist\", \"VBZ\", 1, 542], [0, \",\", \",\", \".\", 0, 543], [0, \"and\", \"and\", \"CC\", 0, 544], [0, \"how\", \"how\", \"WRB\", 0, 545], [172, \"evolution\", \"evolution\", \"NN\", 1, 546], [173, \"produced\", \"produce\", \"VBD\", 1, 547], [174, \"human\", \"human\", \"JJ\", 1, 548], [175, \"intelligence\", \"intelligence\", \"NN\", 1, 549], [0, \".\", \".\", \".\", 0, 550]]]\n",
      "[\"0517548233\", \"2da3584111e71acea71223198fbdf50ef8da0829\", [[0, \"For\", \"for\", \"IN\", 0, 551], [11, \"Dante\", \"dante\", \"NNP\", 1, 552], [0, \",\", \",\", \".\", 0, 553], [0, \"there\", \"there\", \"EX\", 0, 554], [86, \"did\", \"do\", \"VBD\", 1, 555], [0, \"n't\", \"n't\", \"RB\", 0, 556], [59, \"seem\", \"seem\", \"VB\", 1, 557], [0, \"to\", \"to\", \"TO\", 0, 558], [5, \"be\", \"be\", \"VB\", 1, 559], [0, \"any\", \"any\", \"DT\", 0, 560], [176, \"opposition\", \"opposition\", \"NN\", 1, 561], [0, \"between\", \"between\", \"IN\", 0, 562], [128, \"religious\", \"religious\", \"JJ\", 1, 563], [177, \"faith\", \"faith\", \"NN\", 1, 564], [0, \"and\", \"and\", \"CC\", 0, 565], [143, \"science\", \"science\", \"NN\", 1, 566], [0, \"-\", \"-\", \".\", 0, 567], [0, \"they\", \"they\", \"PRP\", 0, 568], [5, \"were\", \"be\", \"VBD\", 1, 569], [178, \"part\", \"part\", \"NN\", 1, 570], [0, \"of\", \"of\", \"IN\", 0, 571], [0, \"the\", \"the\", \"DT\", 0, 572], [179, \"same\", \"same\", \"JJ\", 1, 573], [49, \"thing\", \"thing\", \"NN\", 1, 574], [0, \".\", \".\", \".\", 0, 575]]]\n",
      "[\"0517548233\", \"55c69cfdd7c3470653d0c415adb7c69e853bcd00\", [[0, \"I\", \"i\", \"PRP\", 0, 576], [86, \"do\", \"do\", \"VBP\", 1, 577], [14, \"wonder\", \"wonder\", \"VB\", 1, 578], [0, \"what\", \"what\", \"WP\", 0, 579], [0, \"he\", \"he\", \"PRP\", 0, 580], [0, \"would\", \"would\", \"MD\", 0, 581], [27, \"have\", \"have\", \"VB\", 1, 582], [10, \"thought\", \"think\", \"VBN\", 1, 583], [0, \"if\", \"if\", \"IN\", 0, 584], [0, \"he\", \"he\", \"PRP\", 0, 585], [27, \"had\", \"have\", \"VBD\", 1, 586], [5, \"been\", \"be\", \"VBN\", 1, 587], [180, \"able\", \"able\", \"JJ\", 1, 588], [0, \"to\", \"to\", \"TO\", 0, 589], [181, \"learn\", \"learn\", \"VB\", 1, 590], [0, \"that\", \"that\", \"IN\", 0, 591], [24, \"many\", \"many\", \"JJ\", 1, 592], [182, \"leading\", \"lead\", \"VBG\", 1, 593], [128, \"religious\", \"religious\", \"JJ\", 1, 594], [183, \"figures\", \"figure\", \"NNS\", 1, 595], [0, \",\", \",\", \".\", 0, 596], [0, \"even\", \"even\", \"RB\", 0, 597], [0, \"in\", \"in\", \"IN\", 0, 598], [0, \"the\", \"the\", \"DT\", 0, 599], [184, \"early\", \"early\", \"JJ\", 1, 600], [61, \"21st\", \"21st\", \"JJ\", 1, 601], [62, \"century\", \"century\", \"NN\", 1, 602], [0, \",\", \",\", \".\", 0, 603], [185, \"reject\", \"reject\", \"VBP\", 1, 604], [0, \"a\", \"a\", \"DT\", 0, 605], [186, \"large\", \"large\", \"JJ\", 1, 606], [178, \"part\", \"part\", \"NN\", 1, 607], [0, \"of\", \"of\", \"IN\", 0, 608], [143, \"science\", \"science\", \"NN\", 1, 609], [0, \"as\", \"as\", \"IN\", 0, 610], [5, \"being\", \"be\", \"VBG\", 1, 611], [0, \"somehow\", \"somehow\", \"RB\", 0, 612], [187, \"unreligious\", \"unreligious\", \"JJ\", 1, 613], [0, \".\", \".\", \".\", 0, 614]]]\n",
      "[\"0517548233\", \"438199f814c27a5cfdf4da9a09bf61b56f2b1efd\", [[0, \"It\", \"it\", \"PRP\", 0, 615], [5, \"'s\", \"be\", \"VBZ\", 1, 616], [188, \"wrong\", \"wrong\", \"JJ\", 1, 617], [0, \"to\", \"to\", \"TO\", 0, 618], [189, \"spend\", \"spend\", \"VB\", 1, 619], [0, \"your\", \"your\", \"PRP$\", 0, 620], [190, \"life\", \"life\", \"NN\", 1, 621], [0, \"dispassionately\", \"dispassionately\", \"RB\", 0, 622], [159, \"trying\", \"try\", \"VBG\", 1, 623], [0, \"to\", \"to\", \"TO\", 0, 624], [191, \"understand\", \"understand\", \"VB\", 1, 625], [192, \"God\", \"god\", \"NNP\", 1, 626], [0, \"'s\", \"'s\", \"POS\", 0, 627], [193, \"Universe\", \"universe\", \"NN\", 1, 628], [0, \"?\", \"?\", \".\", 0, 629]]]\n",
      "[\"0517548233\", \"8ef610470bcadd78be16ffaf96c527a6e17d9377\", [[0, \"I\", \"i\", \"PRP\", 0, 630], [0, \"can\", \"can\", \"MD\", 0, 631], [35, \"see\", \"see\", \"VB\", 1, 632], [0, \"him\", \"him\", \"PRP\", 0, 633], [53, \"getting\", \"get\", \"VBG\", 1, 634], [0, \"quite\", \"quite\", \"RB\", 0, 635], [194, \"angry\", \"angry\", \"JJ\", 1, 636], [0, \"about\", \"about\", \"IN\", 0, 637], [0, \"this\", \"this\", \"DT\", 0, 638], [0, \",\", \",\", \".\", 0, 639], [0, \"and\", \"and\", \"CC\", 0, 640], [195, \"deciding\", \"decide\", \"VBG\", 1, 641], [0, \"to\", \"to\", \"TO\", 0, 642], [196, \"rearrange\", \"rearrange\", \"VB\", 1, 643], [0, \"the\", \"the\", \"DT\", 0, 644], [197, \"seating\", \"seating\", \"NN\", 1, 645], [0, \"a\", \"a\", \"DT\", 0, 646], [198, \"little\", \"little\", \"JJ\", 1, 647], [0, \"down\", \"down\", \"RP\", 0, 648], [0, \"in\", \"in\", \"IN\", 0, 649], [32, \"Hell\", \"hell\", \"NNP\", 1, 650], [0, \".\", \".\", \".\", 0, 651]]]\n",
      "[\"0517548233\", \"625e28acb1a680deff4be94cde79d8d5b0a2a9af\", [[0, \"I\", \"i\", \"PRP\", 0, 652], [199, \"keep\", \"keep\", \"VBP\", 1, 653], [10, \"thinking\", \"think\", \"VBG\", 1, 654], [0, \"that\", \"that\", \"IN\", 0, 655], [0, \"there\", \"there\", \"EX\", 0, 656], [5, \"'s\", \"be\", \"VBZ\", 1, 657], [0, \"a\", \"a\", \"DT\", 0, 658], [78, \"book\", \"book\", \"NN\", 1, 659], [200, \"someone\", \"someone\", \"NN\", 1, 660], [0, \"ought\", \"ought\", \"MD\", 0, 661], [0, \"to\", \"to\", \"TO\", 0, 662], [201, \"write\", \"write\", \"VB\", 1, 663], [202, \"called\", \"call\", \"VBN\", 1, 664], [0, \"\\\"\", \"\\\"\", \".\", 0, 665], [0, \"Five\", \"five\", \"CD\", 0, 666], [102, \"Atheists\", \"atheist\", \"NNS\", 1, 667], [0, \"You\", \"you\", \"PRP\", 0, 668], [0, \"'ll\", \"'ll\", \"MD\", 0, 669], [203, \"Meet\", \"meet\", \"VB\", 1, 670], [0, \"in\", \"in\", \"IN\", 0, 671], [70, \"Heaven\", \"heaven\", \"NNP\", 1, 672], [0, \"\\\"\", \"\\\"\", \".\", 0, 673], [0, \".\", \".\", \".\", 0, 674]]]\n",
      "[\"0517548233\", \"b2df73a3dc7d16f13c256c005a28bb6891c89b42\", [[0, \"Please\", \"please\", \"UH\", 0, 675], [204, \"let\", \"let\", \"VB\", 1, 676], [0, \"me\", \"me\", \"PRP\", 0, 677], [205, \"know\", \"know\", \"VB\", 1, 678], [0, \"when\", \"when\", \"WRB\", 0, 679], [0, \"it\", \"it\", \"PRP\", 0, 680], [206, \"comes\", \"come\", \"VBZ\", 1, 681], [0, \"out\", \"out\", \"RP\", 0, 682], [0, \";\", \";\", \".\", 0, 683], [0, \"I\", \"i\", \"PRP\", 0, 684], [0, \"'ll\", \"'ll\", \"MD\", 0, 685], [207, \"buy\", \"buy\", \"VB\", 1, 686], [0, \"a\", \"a\", \"DT\", 0, 687], [208, \"copy\", \"copy\", \"NN\", 1, 688], [0, \"at\", \"at\", \"IN\", 0, 689], [209, \"once.**************************************PS\", \"once.**************************************ps\", \"NN\", 1, 690]]]\n",
      "[\"0517548233\", \"358c6f440efec88fe1d30a23c156ef74c52397f1\", [[0, \"I\", \"i\", \"PRP\", 0, 691], [0, \"could\", \"could\", \"MD\", 0, 692], [0, \"n't\", \"n't\", \"RB\", 0, 693], [82, \"help\", \"help\", \"VB\", 1, 694], [14, \"wondering\", \"wonder\", \"VBG\", 1, 695], [0, \"what\", \"what\", \"WP\", 0, 696], [51, \"Paradise\", \"paradise\", \"NNP\", 1, 697], [0, \"might\", \"might\", \"MD\", 0, 698], [27, \"have\", \"have\", \"VB\", 1, 699], [210, \"looked\", \"look\", \"VBN\", 1, 700], [0, \"like\", \"like\", \"IN\", 0, 701], [0, \"if\", \"if\", \"IN\", 0, 702], [11, \"Dante\", \"dante\", \"NNP\", 1, 703], [27, \"had\", \"have\", \"VBD\", 1, 704], [5, \"been\", \"be\", \"VBN\", 1, 705], [201, \"writing\", \"write\", \"VBG\", 1, 706], [211, \"today\", \"today\", \"NN\", 1, 707], [0, \".\", \".\", \".\", 0, 708]]]\n",
      "[\"0517548233\", \"a6d113efda2e3cae6b0fe6b03a962693ddc3f72b\", [[0, \"Obviously\", \"obviously\", \"RB\", 0, 709], [0, \"we\", \"we\", \"PRP\", 0, 710], [0, \"would\", \"would\", \"MD\", 0, 711], [0, \"n't\", \"n't\", \"RB\", 0, 712], [27, \"have\", \"have\", \"VB\", 1, 713], [0, \"the\", \"the\", \"DT\", 0, 714], [212, \"old\", \"old\", \"JJ\", 1, 715], [213, \"geocentric\", \"geocentric\", \"JJ\", 1, 716], [214, \"model\", \"model\", \"NN\", 1, 717], [0, \"of\", \"of\", \"IN\", 0, 718], [0, \"the\", \"the\", \"DT\", 0, 719], [193, \"Universe\", \"universe\", \"NNP\", 1, 720], [0, \"-\", \"-\", \".\", 0, 721], [0, \"it\", \"it\", \"PRP\", 0, 722], [0, \"would\", \"would\", \"MD\", 0, 723], [5, \"be\", \"be\", \"VB\", 1, 724], [164, \"bang\", \"bang\", \"VBN\", 1, 725], [0, \"up\", \"up\", \"RP\", 0, 726], [0, \"to\", \"to\", \"IN\", 0, 727], [215, \"date\", \"date\", \"NN\", 1, 728], [0, \".\", \".\", \".\", 0, 729]]]\n",
      "[\"0517548233\", \"af6abe5aba582f25bd8acbaad111839e75186380\", [[0, \"I\", \"i\", \"PRP\", 0, 730], [10, \"think\", \"think\", \"VBP\", 1, 731], [0, \"there\", \"there\", \"EX\", 0, 732], [5, \"is\", \"be\", \"VBZ\", 1, 733], [0, \"now\", \"now\", \"RB\", 0, 734], [0, \"far\", \"far\", \"RB\", 0, 735], [133, \"more\", \"more\", \"JJR\", 1, 736], [216, \"material\", \"material\", \"NN\", 1, 737], [0, \"for\", \"for\", \"IN\", 0, 738], [0, \"an\", \"an\", \"DT\", 0, 739], [217, \"ambitious\", \"ambitious\", \"JJ\", 1, 740], [218, \"poet\", \"poet\", \"NN\", 1, 741], [0, \"to\", \"to\", \"TO\", 0, 742], [219, \"work\", \"work\", \"VB\", 1, 743], [0, \"with\", \"with\", \"IN\", 0, 744], [0, \"than\", \"than\", \"IN\", 0, 745], [0, \"there\", \"there\", \"EX\", 0, 746], [5, \"was\", \"be\", \"VBD\", 1, 747], [0, \"in\", \"in\", \"IN\", 0, 748], [0, \"the\", \"the\", \"DT\", 0, 749], [220, \"14th\", \"14th\", \"JJ\", 1, 750], [62, \"century\", \"century\", \"NN\", 1, 751], [0, \".\", \".\", \".\", 0, 752]]]\n",
      "[\"0517548233\", \"09c4298bccb86699e67fc263711a29ed81a9f88c\", [[0, \"For\", \"for\", \"IN\", 0, 753], [221, \"example\", \"example\", \"NN\", 1, 754], [0, \",\", \",\", \".\", 0, 755], [0, \"when\", \"when\", \"WRB\", 0, 756], [0, \"we\", \"we\", \"PRP\", 0, 757], [53, \"get\", \"get\", \"VBP\", 1, 758], [0, \"to\", \"to\", \"IN\", 0, 759], [0, \"the\", \"the\", \"DT\", 0, 760], [70, \"Heaven\", \"heaven\", \"NNP\", 1, 761], [0, \"of\", \"of\", \"IN\", 0, 762], [0, \"the\", \"the\", \"DT\", 0, 763], [222, \"Galaxy\", \"galaxy\", \"NNP\", 1, 764], [0, \",\", \",\", \".\", 0, 765], [0, \"I\", \"i\", \"PRP\", 0, 766], [158, \"imagine\", \"imagine\", \"VBP\", 1, 767], [0, \"him\", \"him\", \"PRP\", 0, 768], [223, \"using\", \"use\", \"VBG\", 1, 769], [0, \"this\", \"this\", \"DT\", 0, 770], [224, \"wonderful\", \"wonderful\", \"JJ\", 1, 771], [85, \"fact\", \"fact\", \"NN\", 1, 772], [0, \"that\", \"that\", \"IN\", 0, 773], [0, \"all\", \"all\", \"PDT\", 0, 774], [0, \"the\", \"the\", \"DT\", 0, 775], [225, \"heavy\", \"heavy\", \"JJ\", 1, 776], [226, \"elements\", \"element\", \"NNS\", 1, 777], [5, \"are\", \"be\", \"VBP\", 1, 778], [227, \"made\", \"make\", \"VBN\", 1, 779], [0, \"in\", \"in\", \"IN\", 0, 780], [228, \"supernova\", \"supernova\", \"JJ\", 1, 781], [229, \"explosions\", \"explosion\", \"NNS\", 1, 782], [0, \".\", \".\", \".\", 0, 783]]]\n",
      "[\"0517548233\", \"4a933da64fae42de4441d3fb1e90a1114462e049\", [[0, \"\\\"\", \"\\\"\", \".\", 0, 784], [0, \"We\", \"we\", \"PRP\", 0, 785], [5, \"are\", \"be\", \"VBP\", 1, 786], [0, \"all\", \"all\", \"DT\", 0, 787], [230, \"stardust\", \"stardust\", \"NN\", 1, 788], [0, \"\\\"\", \"\\\"\", \".\", 0, 789], [0, \",\", \",\", \".\", 0, 790], [0, \"as\", \"as\", \"IN\", 0, 791], [0, \"some\", \"some\", \"DT\", 0, 792], [88, \"people\", \"people\", \"NNS\", 1, 793], [231, \"like\", \"like\", \"VBP\", 1, 794], [0, \"to\", \"to\", \"TO\", 0, 795], [110, \"put\", \"put\", \"VB\", 1, 796], [0, \"it\", \"it\", \"PRP\", 0, 797], [0, \".\", \".\", \".\", 0, 798]]]\n",
      "[\"0517548233\", \"801861e58f08bbb5462f9dcfdf2498b413efca93\", [[0, \"Then\", \"then\", \"RB\", 0, 799], [0, \"when\", \"when\", \"WRB\", 0, 800], [0, \"we\", \"we\", \"PRP\", 0, 801], [53, \"get\", \"get\", \"VBP\", 1, 802], [0, \"to\", \"to\", \"IN\", 0, 803], [0, \"the\", \"the\", \"DT\", 0, 804], [70, \"Heaven\", \"heaven\", \"NNP\", 1, 805], [0, \"of\", \"of\", \"IN\", 0, 806], [0, \"the\", \"the\", \"DT\", 0, 807], [232, \"Cosmos\", \"cosmos\", \"NNP\", 1, 808], [0, \",\", \",\", \".\", 0, 809], [0, \"we\", \"we\", \"PRP\", 0, 810], [157, \"find\", \"find\", \"VBP\", 1, 811], [0, \"that\", \"that\", \"IN\", 0, 812], [0, \"the\", \"the\", \"DT\", 0, 813], [233, \"light\", \"light\", \"NN\", 1, 814], [0, \"from\", \"from\", \"IN\", 0, 815], [0, \"the\", \"the\", \"DT\", 0, 816], [0, \"\\\"\", \"\\\"\", \".\", 0, 817], [204, \"Let\", \"let\", \"VB\", 1, 818], [0, \"there\", \"there\", \"EX\", 0, 819], [5, \"be\", \"be\", \"VB\", 1, 820], [233, \"light\", \"light\", \"JJ\", 1, 821], [0, \"\\\"\", \"\\\"\", \".\", 0, 822], [124, \"moment\", \"moment\", \"NN\", 1, 823], [0, \"at\", \"at\", \"IN\", 0, 824], [0, \"the\", \"the\", \"DT\", 0, 825], [234, \"beginning\", \"beginning\", \"NN\", 1, 826], [0, \"of\", \"of\", \"IN\", 0, 827], [235, \"Creation\", \"creation\", \"NNP\", 1, 828], [5, \"is\", \"be\", \"VBZ\", 1, 829], [0, \"still\", \"still\", \"RB\", 0, 830], [0, \"around\", \"around\", \"RB\", 0, 831], [0, \"-\", \"-\", \".\", 0, 832], [0, \"it\", \"it\", \"PRP\", 0, 833], [5, \"'s\", \"be\", \"VBZ\", 1, 834], [0, \"just\", \"just\", \"RB\", 0, 835], [236, \"cooled\", \"cool\", \"VBN\", 1, 836], [0, \"to\", \"to\", \"IN\", 0, 837], [0, \"2.7\", \"2.7\", \"CD\", 0, 838], [237, \"degrees\", \"degree\", \"NNS\", 1, 839], [238, \"K\", \"k\", \"NN\", 1, 840], [0, \",\", \",\", \".\", 0, 841], [0, \"and\", \"and\", \"CC\", 0, 842], [239, \"appears\", \"appear\", \"VBZ\", 1, 843], [0, \"as\", \"as\", \"IN\", 0, 844], [0, \"the\", \"the\", \"DT\", 0, 845], [240, \"cosmic\", \"cosmic\", \"JJ\", 1, 846], [241, \"background\", \"background\", \"NN\", 1, 847], [242, \"radiation\", \"radiation\", \"NN\", 1, 848], [0, \".\", \".\", \".\", 0, 849]]]\n",
      "[\"0517548233\", \"40ef0fc4899bfb2efdb3df939ebef3a2e68a0fb2\", [[0, \"But\", \"but\", \"CC\", 0, 850], [0, \"it\", \"it\", \"PRP\", 0, 851], [5, \"'s\", \"be\", \"VBZ\", 1, 852], [0, \"not\", \"not\", \"RB\", 0, 853], [0, \"completely\", \"completely\", \"RB\", 0, 854], [243, \"uniform\", \"uniform\", \"JJ\", 1, 855], [0, \",\", \",\", \".\", 0, 856], [0, \"as\", \"as\", \"IN\", 0, 857], [0, \"the\", \"the\", \"DT\", 0, 858], [244, \"quantum\", \"quantum\", \"NN\", 1, 859], [245, \"fluctuations\", \"fluctuation\", \"NNS\", 1, 860], [246, \"left\", \"leave\", \"VBN\", 1, 861], [0, \"over\", \"over\", \"RP\", 0, 862], [0, \"from\", \"from\", \"IN\", 0, 863], [0, \"the\", \"the\", \"DT\", 0, 864], [247, \"period\", \"period\", \"NN\", 1, 865], [0, \"when\", \"when\", \"WRB\", 0, 866], [0, \"the\", \"the\", \"DT\", 0, 867], [193, \"Universe\", \"universe\", \"NNP\", 1, 868], [5, \"was\", \"be\", \"VBD\", 1, 869], [0, \"the\", \"the\", \"DT\", 0, 870], [248, \"size\", \"size\", \"NN\", 1, 871], [0, \"of\", \"of\", \"IN\", 0, 872], [0, \"an\", \"an\", \"DT\", 0, 873], [249, \"atomic\", \"atomic\", \"JJ\", 1, 874], [250, \"nucleus\", \"nucleus\", \"NN\", 1, 875], [5, \"are\", \"be\", \"VBP\", 1, 876], [0, \"the\", \"the\", \"DT\", 0, 877], [234, \"beginnings\", \"beginning\", \"NNS\", 1, 878], [0, \"of\", \"of\", \"IN\", 0, 879], [0, \"the\", \"the\", \"DT\", 0, 880], [222, \"galaxies\", \"galaxy\", \"NNS\", 1, 881], [251, \"created\", \"create\", \"VBN\", 1, 882], [0, \"on\", \"on\", \"IN\", 0, 883], [0, \"the\", \"the\", \"DT\", 0, 884], [252, \"second\", \"second\", \"JJ\", 1, 885], [13, \"day\", \"day\", \"NN\", 1, 886], [0, \".\", \".\", \".\", 0, 887]]]\n",
      "[\"0517548233\", \"bb43a8f5ecd5724ffee6d8edbb51228493ffade0\", [[0, \"Finally\", \"finally\", \"RB\", 0, 888], [0, \",\", \",\", \".\", 0, 889], [0, \"we\", \"we\", \"PRP\", 0, 890], [253, \"reach\", \"reach\", \"VBP\", 1, 891], [0, \"the\", \"the\", \"DT\", 0, 892], [70, \"Heaven\", \"heaven\", \"NNP\", 1, 893], [0, \"of\", \"of\", \"IN\", 0, 894], [0, \"the\", \"the\", \"DT\", 0, 895], [254, \"Multiverse\", \"multiverse\", \"NN\", 1, 896], [0, \",\", \",\", \".\", 0, 897], [0, \"and\", \"and\", \"CC\", 0, 898], [157, \"find\", \"find\", \"VB\", 1, 899], [0, \"that\", \"that\", \"IN\", 0, 900], [0, \"we\", \"we\", \"PRP\", 0, 901], [5, \"are\", \"be\", \"VBP\", 1, 902], [0, \"just\", \"just\", \"RB\", 0, 903], [0, \"one\", \"one\", \"CD\", 0, 904], [0, \"of\", \"of\", \"IN\", 0, 905], [24, \"many\", \"many\", \"JJ\", 1, 906], [36, \"different\", \"different\", \"JJ\", 1, 907], [193, \"universes\", \"universe\", \"NNS\", 1, 908], [0, \".\", \".\", \".\", 0, 909]]]\n",
      "[\"0517548233\", \"ca4b75ccc471871cbfb2556094e5e9ad0d817e5b\", [[0, \"It\", \"it\", \"PRP\", 0, 910], [5, \"was\", \"be\", \"VBD\", 1, 911], [255, \"necessary\", \"necessary\", \"JJ\", 1, 912], [0, \"to\", \"to\", \"TO\", 0, 913], [251, \"create\", \"create\", \"VB\", 1, 914], [0, \"all\", \"all\", \"DT\", 0, 915], [0, \"of\", \"of\", \"IN\", 0, 916], [0, \"them\", \"them\", \"PRP\", 0, 917], [0, \",\", \",\", \".\", 0, 918], [0, \"so\", \"so\", \"IN\", 0, 919], [0, \"that\", \"that\", \"IN\", 0, 920], [256, \"random\", \"random\", \"JJ\", 1, 921], [257, \"processes\", \"process\", \"NNS\", 1, 922], [0, \"could\", \"could\", \"MD\", 0, 923], [227, \"make\", \"make\", \"VB\", 1, 924], [258, \"sure\", \"sure\", \"JJ\", 1, 925], [0, \"that\", \"that\", \"IN\", 0, 926], [0, \"a\", \"a\", \"DT\", 0, 927], [0, \"very\", \"very\", \"RB\", 0, 928], [2, \"small\", \"small\", \"JJ\", 1, 929], [259, \"number\", \"number\", \"NN\", 1, 930], [0, \"would\", \"would\", \"MD\", 0, 931], [122, \"end\", \"end\", \"VB\", 1, 932], [0, \"up\", \"up\", \"RP\", 0, 933], [5, \"being\", \"be\", \"VBG\", 1, 934], [180, \"able\", \"able\", \"JJ\", 1, 935], [0, \"to\", \"to\", \"TO\", 0, 936], [260, \"support\", \"support\", \"VB\", 1, 937], [190, \"life\", \"life\", \"NN\", 1, 938], [0, \".\", \".\", \".\", 0, 939]]]\n",
      "[\"0517548233\", \"c663086d8503700b8bdbd65379317139105c10dd\", [[0, \"How\", \"how\", \"WRB\", 0, 940], [261, \"impious\", \"impious\", \"JJ\", 1, 941], [0, \"to\", \"to\", \"TO\", 0, 942], [262, \"assume\", \"assume\", \"VB\", 1, 943], [0, \"that\", \"that\", \"IN\", 0, 944], [192, \"God\", \"god\", \"NNP\", 1, 945], [0, \"would\", \"would\", \"MD\", 0, 946], [0, \"only\", \"only\", \"RB\", 0, 947], [5, \"be\", \"be\", \"VB\", 1, 948], [180, \"able\", \"able\", \"JJ\", 1, 949], [0, \"to\", \"to\", \"TO\", 0, 950], [251, \"create\", \"create\", \"VB\", 1, 951], [0, \"one\", \"one\", \"CD\", 0, 952], [193, \"Universe\", \"universe\", \"NN\", 1, 953], [0, \",\", \",\", \".\", 0, 954], [0, \"and\", \"and\", \"CC\", 0, 955], [27, \"have\", \"have\", \"VBP\", 1, 956], [0, \"to\", \"to\", \"TO\", 0, 957], [263, \"tweak\", \"tweak\", \"VB\", 1, 958], [0, \"all\", \"all\", \"PDT\", 0, 959], [0, \"the\", \"the\", \"DT\", 0, 960], [264, \"constants\", \"constant\", \"NNS\", 1, 961], [0, \"Himself\", \"himself\", \"PRP\", 0, 962], [0, \"!\", \"!\", \".\", 0, 963]]]\n"
     ]
    }
   ],
   "source": [
    "import pytextrank\n",
    "import sys\n",
    "\n",
    "path_stage0 = \"review4.json\"\n",
    "path_stage1 = \"o1.json\"\n",
    "\n",
    "with open(path_stage1, 'w') as f:\n",
    "    for graf in pytextrank.parse_doc(pytextrank.json_iter(path_stage0)):\n",
    "        f.write(\"%s\\n\" % pytextrank.pretty_print(graf._asdict()))\n",
    "        # to view output in this notebook\n",
    "        print(pytextrank.pretty_print(graf))"
   ]
  },
  {
   "cell_type": "markdown",
   "metadata": {},
   "source": [
    "### Stage 2:\n",
    "Collect and normalize the key phrases from a parsed document\n",
    "\n",
    "INPUTS: `<stage1>`  \n",
    "OUTPUT: JSON format `RankedLexeme(text, rank, ids, pos)`"
   ]
  },
  {
   "cell_type": "code",
   "execution_count": 43,
   "metadata": {},
   "outputs": [
    {
     "name": "stdout",
     "output_type": "stream",
     "text": [
      "[\"be\", 0.05326289205537389, [5], \"vb\", 54]\n",
      "[\"universe\", 0.01895163537915146, [193], \"np\", 1]\n",
      "[\"dante\", 0.017847506191262658, [11], \"np\", 3]\n",
      "[\"most outspoken atheist\", 0.015421085302866037, [100, 101, 102], \"np\", 1]\n",
      "[\"dawkins\", 0.01414231022839443, [93], \"np\", 3]\n",
      "[\"religious man\", 0.013992987795603084, [128, 129], \"np\", 1]\n",
      "[\"actual fact\", 0.013434274600324777, [127, 85], \"np\", 1]\n",
      "[\"more material\", 0.011597381325448148, [133, 216], \"np\", 1]\n",
      "[\"ambitious poet\", 0.011231935445457222, [217, 218], \"np\", 1]\n",
      "[\"life\", 0.011135844859573387, [190], \"np\", 1]\n",
      "[\"same thing\", 0.010696710162229886, [179, 49], \"np\", 1]\n",
      "[\"heaven\", 0.010620685378937926, [70], \"nnp\", 5]\n",
      "[\"pope\", 0.010423755404413593, [113], \"np\", 1]\n",
      "[\"obscure theological points\", 0.009968477722138607, [71, 72, 73], \"np\", 1]\n",
      "[\"many different universes\", 0.00947581768957573, [24, 36, 193], \"np\", 1]\n",
      "[\"have\", 0.00927468497279222, [27], \"vbp\", 11]\n",
      "[\"21st century world\", 0.009149242558049265, [61, 62, 63], \"np\", 1]\n",
      "[\"science\", 0.008948438659560916, [143], \"nn\", 3]\n",
      "[\"hell\", 0.008828000403048417, [32], \"nnp\", 3]\n",
      "[\"big bang\", 0.008752356161012935, [163, 164], \"np\", 1]\n",
      "[\"atomic nucleus\", 0.008655130561048066, [249, 250], \"np\", 1]\n",
      "[\"god\", 0.008392398828439033, [192], \"np\", 1]\n",
      "[\"information\", 0.008171832164892374, [161], \"np\", 1]\n",
      "[\"other day\", 0.008160981025394526, [12, 13], \"np\", 1]\n",
      "[\"art stuff\", 0.008159217438673804, [146, 56], \"np\", 1]\n",
      "[\"part\", 0.008047780017440916, [178], \"np\", 1]\n",
      "[\"find\", 0.007983047730686288, [157], \"vb\", 3]\n",
      "[\"galaxies\", 0.007967594977455058, [222], \"np\", 1]\n",
      "[\"cosmic background radiation\", 0.007941888893343916, [240, 241, 242], \"np\", 1]\n",
      "[\"christian world-view\", 0.007710781324558774, [97, 98], \"np\", 1]\n",
      "[\"atheists\", 0.0077105426514330186, [102], \"nns\", 2]\n",
      "[\"small truth\", 0.0074988865050433775, [2, 3], \"np\", 1]\n",
      "[\"religious people\", 0.007381082145162596, [128, 88], \"np\", 1]\n",
      "[\"meet\", 0.007328012728594525, [203], \"vb\", 1]\n",
      "[\"supernova explosions\", 0.007166330661049601, [228, 229], \"np\", 1]\n",
      "[\"spontaneous symmetry breaking\", 0.007165270077512267, [165, 166, 167], \"np\", 1]\n",
      "[\"first sight\", 0.00713595665970476, [57, 58], \"np\", 1]\n",
      "[\"fact\", 0.006717137300162389, [85], \"nn\", 3]\n",
      "[\"wonderful fact\", 0.006717137300162389, [224, 85], \"np\", 1]\n",
      "[\"someone\", 0.006665634905427862, [200], \"np\", 1]\n",
      "[\"trying\", 0.0062323155940245305, [159], \"vbg\", 2]\n",
      "[\"vital importance\", 0.006129482146195159, [151, 152], \"np\", 1]\n",
      "[\"old geocentric model\", 0.006045654064360688, [212, 213, 214], \"np\", 1]\n",
      "[\"boniface\", 0.005972083114154581, [114], \"np\", 1]\n",
      "[\"second day\", 0.0058733682610332145, [252, 13], \"np\", 1]\n",
      "[\"work\", 0.005842543449215134, [219], \"vb\", 1]\n",
      "[\"material\", 0.005700545530383151, [216], \"nn\", 1]\n",
      "[\"modern-day author\", 0.005552474082332124, [79, 80], \"np\", 1]\n",
      "[\"moment\", 0.005540772265493004, [124], \"nn\", 2]\n",
      "[\"state\", 0.005536346592982335, [145], \"np\", 1]\n",
      "[\"viii\", 0.005523998131154194, [115], \"nnp\", 1]\n",
      "[\"writing\", 0.005522944469699401, [201], \"vbg\", 2]\n",
      "[\"occurred\", 0.005456861221797234, [168], \"vbd\", 1]\n",
      "[\"thing\", 0.005348355081114943, [49], \"nn\", 2]\n",
      "[\"put\", 0.0052660010590886, [110], \"vb\", 3]\n",
      "[\"leaders\", 0.005227183500317695, [112], \"nns\", 1]\n",
      "[\"human intelligence\", 0.005212711461720692, [174, 175], \"np\", 1]\n",
      "[\"long time\", 0.005210108161254764, [22, 23], \"np\", 1]\n",
      "[\"create\", 0.0050973937818669995, [251], \"vb\", 3]\n",
      "[\"ptolomaic astronomy\", 0.005029248553740733, [66, 67], \"np\", 2]\n",
      "[\"degrees k\", 0.005018584647321566, [237, 238], \"np\", 1]\n",
      "[\"points\", 0.004984238861069304, [73], \"nns\", 1]\n",
      "[\"mainstream religion\", 0.004979358370093292, [136, 137], \"np\", 1]\n",
      "[\"beginnings\", 0.004964572228660971, [234], \"nns\", 2]\n",
      "[\"get\", 0.004881696228680693, [53], \"vbp\", 5]\n",
      "[\"religious faith\", 0.004797713709933514, [128, 177], \"np\", 1]\n",
      "[\"large part\", 0.004622281448359655, [186, 178], \"np\", 1]\n",
      "[\"way\", 0.004598991911584361, [107], \"nn\", 2]\n",
      "[\"early 21st century\", 0.0045746212790246325, [184, 61, 62], \"np\", 1]\n",
      "[\"today\", 0.004453781455423415, [211], \"nn\", 1]\n",
      "[\"big\", 0.0043761780805064675, [163], \"nnp\", 1]\n",
      "[\"world\", 0.004355863772015023, [63], \"nn\", 2]\n",
      "[\"creation\", 0.004354779097911875, [235], \"np\", 1]\n",
      "[\"third book\", 0.00431103146816236, [77, 78], \"np\", 1]\n",
      "[\"passionate love\", 0.004276898478713893, [141, 142], \"np\", 1]\n",
      "[\"wondering\", 0.004272723105110346, [14], \"vbg\", 4]\n",
      "[\"seem\", 0.004244284741442846, [59], \"vb\", 3]\n",
      "[\"happened\", 0.004242974780243285, [162], \"vbd\", 1]\n",
      "[\"do\", 0.00420774148033364, [86], \"vbp\", 3]\n",
      "[\"imagine\", 0.004197102890075889, [158], \"vbp\", 2]\n",
      "[\"size\", 0.004185383406015796, [248], \"nn\", 1]\n",
      "[\"less timeless\", 0.004091923082121264, [45, 46], \"np\", 1]\n",
      "[\"day\", 0.004080490512697263, [13], \"nn\", 3]\n",
      "[\"stuff\", 0.004079608719336902, [56], \"nn\", 2]\n",
      "[\"light\", 0.00398064821826195, [233], \"nn\", 1]\n",
      "[\"radiation\", 0.003970944446671958, [242], \"nn\", 1]\n",
      "[\"goodreads review\", 0.0039636412910472405, [17, 18], \"np\", 1]\n",
      "[\"christian\", 0.003855390662279387, [97], \"nnp\", 1]\n",
      "[\"different sins\", 0.003806221749816737, [36, 37], \"np\", 1]\n",
      "[\"moral story\", 0.003803585842611708, [43, 44], \"np\", 1]\n",
      "[\"truth\", 0.0037494432525216888, [3], \"nn\", 3]\n",
      "[\"great truth\", 0.0037494432525216888, [7, 3], \"np\", 1]\n",
      "[\"people\", 0.003690541072581298, [88], \"np\", 1]\n",
      "[\"century\", 0.0036693192651745146, [62], \"nn\", 3]\n",
      "[\"reject\", 0.0036255882719095933, [185], \"vbp\", 1]\n",
      "[\"explosions\", 0.0035831653305248004, [229], \"nns\", 1]\n",
      "[\"sight\", 0.00356797832985238, [58], \"nn\", 1]\n",
      "[\"church\", 0.003494666307678384, [108], \"np\", 1]\n",
      "[\"paradise\", 0.0034589954021679212, [51], \"nnp\", 2]\n",
      "[\"idea\", 0.00342802405612467, [126], \"nn\", 1]\n",
      "[\"think\", 0.003400309700245988, [10], \"vbp\", 5]\n",
      "[\"tale\", 0.003375040811849127, [121], \"nnp\", 1]\n",
      "[\"course\", 0.0033749793793709532, [94], \"nn\", 2]\n",
      "[\"bang\", 0.0033605363384564555, [164], \"np\", 1]\n",
      "[\"richard\", 0.0032251456123196308, [92], \"np\", 1]\n",
      "[\"schadenfreude\", 0.003161994190361078, [40], \"nn\", 1]\n",
      "[\"poet\", 0.003157786427886098, [218], \"nn\", 1]\n",
      "[\"give\", 0.0031300136307456637, [76], \"vbp\", 1]\n",
      "[\"identify\", 0.0031300136307456637, [81], \"vb\", 1]\n",
      "[\"entertain\", 0.003125448310906547, [125], \"vb\", 1]\n",
      "[\"art\", 0.003123199900196081, [146], \"nn\", 1]\n",
      "[\"called\", 0.003117187304855613, [202], \"vbn\", 1]\n",
      "[\"importance\", 0.0030647410730975794, [152], \"nn\", 1]\n",
      "[\"ancestor\", 0.003064697996759701, [120], \"nnp\", 1]\n",
      "[\"model\", 0.003022827032180344, [214], \"nn\", 1]\n",
      "[\"hosts\", 0.003017861240130414, [155], \"nns\", 1]\n",
      "[\"14th century\", 0.003001322875095663, [220, 62], \"np\", 1]\n",
      "[\"breaking\", 0.0029493163767540303, [167], \"nn\", 1]\n",
      "[\"make\", 0.0029331361526705835, [227], \"vb\", 2]\n",
      "[\"anyone\", 0.0029184132243193304, [118], \"np\", 1]\n",
      "[\"sort\", 0.0029028100900995433, [48], \"nn\", 1]\n",
      "[\"appears\", 0.0029028100900995433, [239], \"vbz\", 1]\n",
      "[\"angelic hierarchy\", 0.0028504804679515008, [148, 149], \"np\", 1]\n",
      "[\"being\", 0.0028174924920265926, [105], \"nn\", 1]\n",
      "[\"indulging\", 0.0028139301365289293, [39], \"vbg\", 1]\n",
      "[\"figures\", 0.0028110575904139287, [183], \"nns\", 1]\n",
      "[\"correspond\", 0.002776237041166062, [30], \"vb\", 1]\n",
      "[\"entertainment\", 0.002776237041166062, [34], \"nn\", 1]\n",
      "[\"readers\", 0.002776237041166062, [75], \"nns\", 1]\n",
      "[\"author\", 0.002776237041166062, [80], \"nn\", 1]\n",
      "[\"spend\", 0.002776237041166062, [189], \"vb\", 1]\n",
      "[\"symmetry\", 0.002738038255169031, [166], \"nn\", 1]\n",
      "[\"read\", 0.0026994534912226113, [119], \"vb\", 1]\n",
      "[\"examines\", 0.002644209820631012, [154], \"vbz\", 1]\n",
      "[\"nucleus\", 0.0026092527486932973, [250], \"nn\", 1]\n",
      "[\"intelligence\", 0.002606355730860346, [175], \"nn\", 1]\n",
      "[\"time\", 0.002605054080627382, [23], \"nn\", 1]\n",
      "[\"cosmos\", 0.002576793877213993, [232], \"nnp\", 1]\n",
      "[\"multiverse\", 0.002576793877213993, [254], \"nn\", 1]\n",
      "[\"organized\", 0.0025585104809840217, [138], \"vbn\", 1]\n",
      "[\"using\", 0.002553889896927692, [223], \"vbg\", 1]\n",
      "[\"astronomy\", 0.0025146242768703665, [67], \"nn\", 2]\n",
      "[\"go\", 0.002509292323660783, [47], \"vbp\", 1]\n",
      "[\"k\", 0.002509292323660783, [238], \"nn\", 1]\n",
      "[\"inhabitants\", 0.0025043938550890757, [69], \"nns\", 1]\n",
      "[\"religion\", 0.002489679185046646, [137], \"nn\", 1]\n",
      "[\"world-view\", 0.00240876216734843, [98], \"nn\", 1]\n",
      "[\"core\", 0.00240876216734843, [104], \"nn\", 1]\n",
      "[\"punished\", 0.0024042698924822852, [38], \"vbn\", 1]\n",
      "[\"faith\", 0.002398856854966757, [177], \"nn\", 1]\n",
      "[\"suggestion\", 0.0022702202527012287, [87], \"nn\", 1]\n",
      "[\"run\", 0.0022430074687552854, [109], \"vbn\", 1]\n",
      "[\"cross\", 0.002204542926575656, [153], \"nn\", 1]\n",
      "[\"particle\", 0.0021956261714181522, [170], \"np\", 1]\n",
      "[\"obvious problems\", 0.0021956261714181522, [19, 20], \"np\", 1]\n",
      "[\"quantum fluctuations\", 0.0021956261714181522, [244, 245], \"np\", 1]\n",
      "[\"random processes\", 0.0021956261714181522, [256, 257], \"np\", 1]\n",
      "[\"small number\", 0.0021628682097563257, [2, 259], \"np\", 1]\n",
      "[\"book\", 0.00215551573408118, [78], \"np\", 1]\n",
      "[\"background\", 0.0021464981429802324, [241], \"nn\", 1]\n",
      "[\"love\", 0.0021384492393569463, [142], \"nn\", 1]\n",
      "[\"learn\", 0.0021290130382707476, [181], \"vb\", 1]\n",
      "[\"support\", 0.0021290130382707476, [260], \"vb\", 1]\n",
      "[\"cultural referents\", 0.002111777089337992, [25, 26], \"np\", 1]\n",
      "[\"looked\", 0.002111657246688455, [210], \"vbn\", 1]\n",
      "[\"changed\", 0.0021109631319769606, [28], \"vbn\", 1]\n",
      "[\"see\", 0.0021069800880102033, [35], \"vb\", 2]\n",
      "[\"understand\", 0.0020945307030143454, [191], \"vb\", 1]\n",
      "[\"topic\", 0.0020854684460398757, [150], \"nn\", 1]\n",
      "[\"immersed\", 0.0020840590965801585, [96], \"vbn\", 1]\n",
      "[\"timeless\", 0.002045961541060632, [46], \"nn\", 1]\n",
      "[\"degrees\", 0.002045961541060632, [237], \"nns\", 1]\n",
      "[\"exists\", 0.00203095758801636, [171], \"vbz\", 1]\n",
      "[\"left\", 0.00203095758801636, [246], \"vbn\", 1]\n",
      "[\"falsehood\", 0.0020198573866174116, [6], \"nn\", 1]\n",
      "[\"other side\", 0.002001015978330542, [12, 116], \"np\", 1]\n",
      "[\"other characteristic\", 0.002001015978330542, [12, 139], \"np\", 1]\n",
      "[\"end\", 0.0020006383768197368, [122], \"vb\", 2]\n",
      "[\"review\", 0.0019818206455236203, [18], \"nn\", 1]\n",
      "[\"disagrees\", 0.0019818206455236203, [132], \"vbz\", 1]\n",
      "[\"seating\", 0.0019818206455236203, [197], \"nn\", 1]\n",
      "[\"once.**************************************ps\", 0.0019818206455236203, [209], \"nn\", 1]\n",
      "[\"niels bohri\", 0.0019773414059070355, [8, 9], \"np\", 1]\n",
      "[\"heavy elements\", 0.0019773414059070355, [225, 226], \"np\", 1]\n",
      "[\"ptolomaic\", 0.0019595009505153373, [66], \"nnp\", 2]\n",
      "[\"constants\", 0.0019405336179479198, [264], \"nns\", 1]\n",
      "[\"leading\", 0.0019124549802722257, [182], \"vbg\", 1]\n",
      "[\"story\", 0.001901792921305854, [44], \"nn\", 1]\n",
      "[\"unites\", 0.0018509521288937532, [140], \"vbz\", 1]\n",
      "[\"opposite\", 0.0018326388881231238, [4], \"nn\", 2]\n",
      "[\"like\", 0.0018160300317004014, [231], \"vbp\", 1]\n",
      "[\"man\", 0.0017610690531576422, [129], \"nn\", 1]\n",
      "[\"date\", 0.0017227601378475097, [215], \"nn\", 1]\n",
      "[\"challenge\", 0.0016208300771708838, [117], \"vbp\", 1]\n",
      "[\"concerns\", 0.0016107670378250403, [84], \"nns\", 1]\n",
      "[\"comes\", 0.0016107670378250403, [206], \"vbz\", 1]\n",
      "[\"purgatory\", 0.001540771874884803, [41], \"np\", 1]\n",
      "[\"higgs\", 0.001540771874884803, [169], \"np\", 1]\n",
      "[\"evolution\", 0.001540771874884803, [172], \"np\", 1]\n",
      "[\"started\", 0.001505338596226083, [52], \"vbd\", 2]\n",
      "[\"lived\", 0.0015006614375478314, [21], \"vbd\", 1]\n",
      "[\"saying\", 0.0015006614375478314, [29], \"vbg\", 2]\n",
      "[\"plenty\", 0.0015006614375478314, [33], \"nn\", 1]\n",
      "[\"opposition\", 0.0015006614375478314, [176], \"nn\", 1]\n",
      "[\"stardust\", 0.0015006614375478314, [230], \"nn\", 1]\n",
      "[\"cooled\", 0.0015006614375478314, [236], \"vbn\", 1]\n",
      "[\"goodreads\", 0.0014252402339757504, [17], \"nnp\", 1]\n",
      "[\"mechanics\", 0.0014252402339757504, [65], \"nns\", 1]\n",
      "[\"hand\", 0.0014252402339757504, [90], \"nn\", 1]\n",
      "[\"rearrange\", 0.0014252402339757504, [196], \"vb\", 1]\n",
      "[\"copy\", 0.0014252402339757504, [208], \"nn\", 1]\n",
      "[\"assume\", 0.0014252402339757504, [262], \"vb\", 1]\n",
      "[\"remember\", 0.0013767045879047736, [144], \"vb\", 1]\n",
      "[\"tweak\", 0.0013767045879047736, [263], \"vb\", 1]\n",
      "[\"hierarchy\", 0.001376103291483011, [149], \"nn\", 1]\n",
      "[\"querying\", 0.0013537835964747282, [68], \"vbg\", 1]\n",
      "[\"sins\", 0.001174751746124409, [37], \"nns\", 1]\n",
      "[\"problems\", 0.0010978130857090761, [20], \"nns\", 1]\n",
      "[\"tells\", 0.0010978130857090761, [42], \"vbz\", 1]\n",
      "[\"fluctuations\", 0.0010978130857090761, [245], \"nns\", 1]\n",
      "[\"processes\", 0.0010978130857090761, [257], \"nns\", 1]\n",
      "[\"number\", 0.0010814341048781628, [259], \"nn\", 1]\n",
      "[\"referents\", 0.001055888544668996, [26], \"nns\", 1]\n",
      "[\"side\", 0.001000507989165271, [116], \"nn\", 1]\n",
      "[\"characteristic\", 0.001000507989165271, [139], \"nn\", 1]\n",
      "[\"bohri\", 0.0009886707029535177, [9], \"nnp\", 1]\n",
      "[\"connect\", 0.0009886707029535177, [83], \"vb\", 1]\n",
      "[\"produced\", 0.0009886707029535177, [173], \"vbd\", 1]\n",
      "[\"know\", 0.0009886707029535177, [205], \"vb\", 1]\n",
      "[\"elements\", 0.0009886707029535177, [226], \"nns\", 1]\n",
      "[\"recognize\", 0.0007703859374424015, [1], \"vb\", 1]\n",
      "[\"niels\", 0.0007703859374424015, [8], \"nnp\", 1]\n",
      "[\"angle\", 0.0007703859374424015, [16], \"nn\", 1]\n",
      "[\"arrive\", 0.0007703859374424015, [50], \"vbp\", 1]\n",
      "[\"lot\", 0.0007703859374424015, [55], \"nn\", 1]\n",
      "[\"explanations\", 0.0007703859374424015, [64], \"nns\", 1]\n",
      "[\"help\", 0.0007703859374424015, [82], \"vb\", 2]\n",
      "[\"condemn\", 0.0007703859374424015, [89], \"vb\", 1]\n",
      "[\"admits\", 0.0007703859374424015, [130], \"vbz\", 1]\n",
      "[\"noted\", 0.0007703859374424015, [134], \"vbn\", 1]\n",
      "[\"details\", 0.0007703859374424015, [147], \"nns\", 1]\n",
      "[\"deciding\", 0.0007703859374424015, [195], \"vbg\", 1]\n",
      "[\"keep\", 0.0007703859374424015, [199], \"vbp\", 1]\n",
      "[\"let\", 0.0007703859374424015, [204], \"vb\", 2]\n",
      "[\"buy\", 0.0007703859374424015, [207], \"vb\", 1]\n",
      "[\"quantum\", 0.0007703859374424015, [244], \"nn\", 1]\n",
      "[\"period\", 0.0007703859374424015, [247], \"nn\", 1]\n",
      "[\"reach\", 0.0007703859374424015, [253], \"vbp\", 1]\n"
     ]
    }
   ],
   "source": [
    "path_stage1 = \"o1.json\"\n",
    "path_stage2 = \"o2.json\"\n",
    "\n",
    "graph, ranks = pytextrank.text_rank(path_stage1)\n",
    "pytextrank.render_ranks(graph, ranks)\n",
    "\n",
    "with open(path_stage2, 'w') as f:\n",
    "    for rl in pytextrank.normalize_key_phrases(path_stage1, ranks):\n",
    "        f.write(\"%s\\n\" % pytextrank.pretty_print(rl._asdict()))\n",
    "        # to view output in this notebook\n",
    "        print(pytextrank.pretty_print(rl))"
   ]
  },
  {
   "cell_type": "code",
   "execution_count": 45,
   "metadata": {
    "scrolled": true
   },
   "outputs": [
    {
     "data": {
      "image/png": "[encoded data removed]",
      "text/plain": [
       "<Figure size 432x288 with 1 Axes>"
      ]
     },
     "metadata": {},
     "output_type": "display_data"
    }
   ],
   "source": [
    "import networkx as nx\n",
    "import pylab as plt\n",
    "# pos=nx.spring_layout(graph)\n",
    "pos = nx.spring_layout(graph,k=1,iterations=50)\n",
    "nx.draw(graph, pos,with_labels=True,font_size = 4) \n",
    "# nx.draw(graph,pos,node_color='#A0CBE2',edge_color='#BB0000',width=10,edge_cmap=plt.cm.Blues,with_labels=True,font_size = 6)\n",
    "plt.savefig(\"graph.pdf\")\n",
    "plt.savefig(\"graph.png\", dpi=1000)\n",
    "plt.show() \n"
   ]
  },
  {
   "cell_type": "markdown",
   "metadata": {},
   "source": [
    "### Stage 3:\n",
    "Calculate a significance weight for each sentence, using MinHash to approximate a Jaccard distance from key phrases determined by TextRank\n",
    "\n",
    "INPUTS: `<stage1> <stage2>`  \n",
    "OUTPUT: JSON format `SummarySent(dist, idx, text)`"
   ]
  },
  {
   "cell_type": "code",
   "execution_count": 46,
   "metadata": {},
   "outputs": [
    {
     "name": "stdout",
     "output_type": "stream",
     "text": [
      "{\"dist\": 0.015426465484452721, \"idx\": 1, \"text\": \"The opposite of a great truth is another truth . \\\"\"}\n",
      "{\"dist\": 0.01321876433771988, \"idx\": 35, \"text\": \"Finally , we reach the Heaven of the Multiverse , and find that we are just one of many different universes .\"}\n",
      "{\"dist\": 0.013161938431973434, \"idx\": 29, \"text\": \"Obviously we would n't have the old geocentric model of the Universe - it would be bang up to date .\"}\n",
      "{\"dist\": 0.0130235953745659, \"idx\": 30, \"text\": \"I think there is now far more material for an ambitious poet to work with than there was in the 14th century .\"}\n",
      "{\"dist\": 0.012894700432457624, \"idx\": 13, \"text\": \"But it 's not quite as crazy as it first may seem .\"}\n",
      "{\"dist\": 0.012588026512228838, \"idx\": 12, \"text\": \"Now of course , I am aware that Dante was deeply immersed in the Christian world-view , and Dawkins is famous for being the world 's most outspoken atheist .\"}\n",
      "{\"dist\": 0.0123183983356407, \"idx\": 22, \"text\": \"For Dante , there did n't seem to be any opposition between religious faith and science - they were part of the same thing .\"}\n",
      "{\"dist\": 0.012085905102465636, \"idx\": 0, \"text\": \"\\\" You can recognize a small truth because its opposite is a falsehood .\"}\n",
      "{\"dist\": 0.011672390054448395, \"idx\": 19, \"text\": \"The other characteristic that unites them for me is this passionate love for science .\"}\n",
      "{\"dist\": 0.011184023553734004, \"idx\": 24, \"text\": \"It 's wrong to spend your life dispassionately trying to understand God 's Universe ?\"}\n",
      "{\"dist\": 0.010811180539448273, \"idx\": 18, \"text\": \"As noted , both Dante and Dawkins are extremely unhappy with the way mainstream religion is being organized .\"}\n",
      "{\"dist\": 0.010804531900682857, \"idx\": 26, \"text\": \"I keep thinking that there 's a book someone ought to write called \\\" Five Atheists You 'll Meet in Heaven \\\" .\"}\n",
      "{\"dist\": 0.010614317192423353, \"idx\": 4, \"text\": \"You 're constantly having to think \\\" Well , nowadays what he 's saying would correspond to THAT \\\" .\"}\n",
      "{\"dist\": 0.01033540288261246, \"idx\": 32, \"text\": \"\\\" We are all stardust \\\" , as some people like to put it .\"}\n",
      "{\"dist\": 0.010311341135431858, \"idx\": 28, \"text\": \"I could n't help wondering what Paradise might have looked like if Dante had been writing today .\"}\n",
      "{\"dist\": 0.009833805266772667, \"idx\": 15, \"text\": \"On the other side , I challenge anyone to read \\\" The Ancestor 's Tale \\\" to the end , and not , at least for a moment , entertain the idea that Dawkins is in actual fact a deeply religious man .\"}\n",
      "{\"dist\": 0.009801563190726737, \"idx\": 16, \"text\": \"He admits as much himself : as he puts it , it 's often not so much that he disagrees with conventionally religious people , more that \\\" they are saying it wrong \\\" .\"}\n",
      "{\"dist\": 0.009569481902720417, \"idx\": 31, \"text\": \"For example , when we get to the Heaven of the Galaxy , I imagine him using this wonderful fact that all the heavy elements are made in supernova explosions .\"}\n",
      "{\"dist\": 0.009491942242259122, \"idx\": 2, \"text\": \"- Niels BohrI was thinking about Dante the other day and wondering how one could approach him from the angle of a GoodReads review .\"}\n",
      "{\"dist\": 0.009341336167186989, \"idx\": 34, \"text\": \"But it 's not completely uniform , as the quantum fluctuations left over from the period when the Universe was the size of an atomic nucleus are the beginnings of the galaxies created on the second day .\"}\n",
      "{\"dist\": 0.009301715979489715, \"idx\": 9, \"text\": \"It 's notorious that readers most often give up somewhere in the third book .\"}\n",
      "{\"dist\": 0.009121959132053074, \"idx\": 37, \"text\": \"How impious to assume that God would only be able to create one Universe , and have to tweak all the constants Himself !\"}\n",
      "{\"dist\": 0.008756782935272685, \"idx\": 10, \"text\": \"I started wondering if there was any modern-day author one could identify with Dante , and if that might help us connect to his concerns .\"}\n",
      "{\"dist\": 0.008434402051083601, \"idx\": 23, \"text\": \"I do wonder what he would have thought if he had been able to learn that many leading religious figures , even in the early 21st century , reject a large part of science as being somehow unreligious .\"}\n",
      "{\"dist\": 0.008395183861620862, \"idx\": 5, \"text\": \"It is n't so bad in Hell , when there is plenty of entertainment to be had in seeing how the different sins are punished , and indulging your schadenfreude .\"}\n",
      "{\"dist\": 0.008285721682120332, \"idx\": 21, \"text\": \"These days , I imagine he would be trying to get inside information on what happened during the Big Bang before spontaneous symmetry breaking occurred , whether or not the Higgs particle really exists , and how evolution produced human intelligence .\"}\n",
      "{\"dist\": 0.008095239820799792, \"idx\": 33, \"text\": \"Then when we get to the Heaven of the Cosmos , we find that the light from the \\\" Let there be light \\\" moment at the beginning of Creation is still around - it 's just cooled to 2.7 degrees K , and appears as the cosmic background radiation .\"}\n",
      "{\"dist\": 0.008045390040427793, \"idx\": 20, \"text\": \"One has to remember that , for Dante , Ptolomaic astronomy was state of the art stuff , and the details of the angelic hierarchy were a topic of vital importance ; of course he cross - examines the hosts of the blessed to find out more .\"}\n",
      "{\"dist\": 0.007950268341349197, \"idx\": 7, \"text\": \"A lot of the stuff at first sight just seems irrelevant to the 21st century world ...\"}\n",
      "{\"dist\": 0.00774054126023624, \"idx\": 3, \"text\": \"One of the obvious problems is that he lived a long time ago , and many of the cultural referents have changed .\"}\n",
      "{\"dist\": 0.0077363809322969195, \"idx\": 14, \"text\": \"Dante was a Christian to the core of his being , but he was furious with the way the Church was being run ; he put several of its leaders , notably Pope Boniface VIII , in Hell .\"}\n",
      "{\"dist\": 0.007207252210417233, \"idx\": 8, \"text\": \"all these explanations about the mechanics of Ptolomaic astronomy , and Dante querying the inhabitants of Heaven on obscure theological points .\"}\n",
      "{\"dist\": 0.006598303508428376, \"idx\": 6, \"text\": \"Then Purgatory tells a moral story that 's more or less timeless if you go for that sort of thing , but once you arrive in Paradise it starts getting seriously tricky .\"}\n",
      "{\"dist\": 0.006532363842885874, \"idx\": 11, \"text\": \"And in fact , I do have a suggestion that some people will no doubt condemn out of hand as completely heretical : Richard Dawkins .\"}\n",
      "{\"dist\": 0.0063838518757354966, \"idx\": 36, \"text\": \"It was necessary to create all of them , so that random processes could make sure that a very small number would end up being able to support life .\"}\n",
      "{\"dist\": 0.0024313906143692762, \"idx\": 25, \"text\": \"I can see him getting quite angry about this , and deciding to rearrange the seating a little down in Hell .\"}\n",
      "{\"dist\": 0.00105298852026051, \"idx\": 27, \"text\": \"Please let me know when it comes out ; I 'll buy a copy at once.**************************************PS\"}\n",
      "{\"dist\": 0.0, \"idx\": 17, \"text\": \"Amen to that .\"}\n"
     ]
    }
   ],
   "source": [
    "\n",
    "\n",
    "path_stage1 = \"o1.json\"\n",
    "path_stage2 = \"o2.json\"\n",
    "path_stage3 = \"o3.json\"\n",
    "\n",
    "kernel = pytextrank.rank_kernel(path_stage2)\n",
    "\n",
    "with open(path_stage3, 'w') as f:\n",
    "    for s in pytextrank.top_sentences(kernel, path_stage1):\n",
    "        f.write(pytextrank.pretty_print(s._asdict()))\n",
    "        f.write(\"\\n\")\n",
    "        # to view output in this notebook\n",
    "        print(pytextrank.pretty_print(s._asdict()))"
   ]
  },
  {
   "cell_type": "markdown",
   "metadata": {},
   "source": [
    "### Stage 4:\n",
    "Summarize a document based on most significant sentences and key phrases\n",
    "\n",
    "INPUTS: `<stage2> <stage3>`  \n",
    "OUTPUT: Markdown format"
   ]
  },
  {
   "cell_type": "code",
   "execution_count": 223,
   "metadata": {
    "scrolled": true
   },
   "outputs": [
    {
     "name": "stdout",
     "output_type": "stream",
     "text": [
      "**excerpts:** The opposite of a great truth is another truth.\" But it's not quite as crazy as it first may seem. Obviously we would n't have the old geocentric model of the Universe- it would be bang up to date. I think there is now far more material for an ambitious poet to work with than there was in the 14th century. Finally, we reach the Heaven of the Multiverse, and find that we are just one of many different universes.\n",
      "\n",
      "**keywords:** ambitious poet, most outspoken atheist, actual fact, more material, heaven, universe, life, same thing, dante, pope, dawkins, obscure theological points, religious man\n"
     ]
    }
   ],
   "source": [
    "path_stage2 = \"o2.json\"\n",
    "path_stage3 = \"o3.json\"\n",
    "\n",
    "phrases = \", \".join(set([p for p in pytextrank.limit_keyphrases(path_stage2, phrase_limit=12)]))\n",
    "sent_iter = sorted(pytextrank.limit_sentences(path_stage3, word_limit=100), key=lambda x: x[1])\n",
    "s = []\n",
    "\n",
    "for sent_text, idx in sent_iter:\n",
    "    s.append(pytextrank.make_sentence(sent_text))\n",
    "\n",
    "graf_text = \" \".join(s)\n",
    "print(\"**excerpts:** %s\\n\\n**keywords:** %s\" % (graf_text, phrases,))"
   ]
  },
  {
   "cell_type": "code",
   "execution_count": 202,
   "metadata": {},
   "outputs": [
    {
     "data": {
      "text/plain": [
       "'The opposite of a great truth is another truth.\" Now of course, I am aware that Dante was deeply immersed in the Christian world-view, and Dawkins is famous for being the world\\'s most outspoken atheist. But it\\'s not quite as crazy as it first may seem. For Dante, there did n\\'t seem to be any opposition between religious faith and science- they were part of the same thing. Obviously we would n\\'t have the old geocentric model of the Universe- it would be bang up to date. I think there is now far more material for an ambitious poet to work with than there was in the 14th century. Finally, we reach the Heaven of the Multiverse, and find that we are just one of many different universes.'"
      ]
     },
     "execution_count": 202,
     "metadata": {},
     "output_type": "execute_result"
    }
   ],
   "source": [
    "graf_text"
   ]
  },
  {
   "cell_type": "code",
   "execution_count": null,
   "metadata": {},
   "outputs": [],
   "source": []
  }
 ],
 "metadata": {
  "kernelspec": {
   "display_name": "Python 3",
   "language": "python",
   "name": "python3"
  },
  "language_info": {
   "codemirror_mode": {
    "name": "ipython",
    "version": 3
   },
   "file_extension": ".py",
   "mimetype": "text/x-python",
   "name": "python",
   "nbconvert_exporter": "python",
   "pygments_lexer": "ipython3",
   "version": "3.6.5"
  }
 },
 "nbformat": 4,
 "nbformat_minor": 2
}
